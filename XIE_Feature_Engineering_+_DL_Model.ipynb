{
  "nbformat": 4,
  "nbformat_minor": 0,
  "metadata": {
    "colab": {
      "provenance": []
    },
    "kernelspec": {
      "name": "python3",
      "display_name": "Python 3"
    },
    "language_info": {
      "name": "python"
    },
    "accelerator": "GPU",
    "gpuClass": "standard"
  },
  "cells": [
    {
      "cell_type": "markdown",
      "source": [
        "## Feature Engineering"
      ],
      "metadata": {
        "id": "24ZpiDdLSI2v"
      }
    },
    {
      "cell_type": "markdown",
      "source": [
        "\n",
        "*   The fourth project is the development of a notebook (code + explanation) that successfully engineers 12 unique types of features, **three** for each type of feature engineering: **transforming**, **interacting**, **mapping**, and **extracting**.\n",
        "* The second part of the assignment is the development of a **deep learning classification** model to predict the direction of the S&P500 for the dates **2018-01-01—2018-07-12** (test set).\n",
        "* The feature engineering section is unrelated to the model section, you can develop any features, not just features that would work for deep learning models (later on you can decide which features to use in your model).\n",
        "*  You also have to uncomment all the example features and make them run successfully  → **every** feature example has some error/s that you have to fix. Please also describe the error you fixed!\n",
        "*   Note that we *won't* be attempting to measure the quality of every feature (i.e., how much it improves the model), that is slightly too advanced for this course.\n"
      ],
      "metadata": {
        "id": "5ME79KRZSLdL"
      }
    },
    {
      "cell_type": "code",
      "execution_count": 1,
      "metadata": {
        "id": "KK3ah2-KR7Mc"
      },
      "outputs": [],
      "source": [
        "import pandas as pd\n",
        "import numpy as np\n",
        "import matplotlib.pyplot as plt\n",
        "import matplotlib.patches as mpatches\n",
        "import seaborn as sns"
      ]
    },
    {
      "cell_type": "markdown",
      "source": [
        "Preparing the Data"
      ],
      "metadata": {
        "id": "y8DfulTBSAXT"
      }
    },
    {
      "cell_type": "code",
      "source": [
        "# preparing our data\n",
        "raw_prices = pd.read_csv(\"https://open-data.s3.filebase.com/assetalloc.csv\", sep=';', parse_dates=True, index_col='Dates', dayfirst=True)\n",
        "df = raw_prices.sort_values(by='Dates')\n",
        "df[\"target\"] = df[\"SP500\"].pct_change().shift(-1)\n",
        "df[\"target\"] = np.where(df[\"target\"]>0,1,0)\n",
        "df.head()"
      ],
      "metadata": {
        "colab": {
          "base_uri": "https://localhost:8080/",
          "height": 458
        },
        "id": "F8Rf5rSWR-O4",
        "outputId": "71ab1d54-47a5-4cfb-da8f-306b6f94bb12"
      },
      "execution_count": 2,
      "outputs": [
        {
          "output_type": "execute_result",
          "data": {
            "text/plain": [
              "              FTSE  EuroStoxx50   SP500    Gold  French-2Y  French-5Y  \\\n",
              "Dates                                                                   \n",
              "1989-02-01  2039.7       875.47  297.09  392.50     99.081     99.039   \n",
              "1989-02-02  2043.4       878.08  296.84  392.00     98.898     99.117   \n",
              "1989-02-03  2069.9       884.09  296.97  388.75     98.907     99.002   \n",
              "1989-02-06  2044.3       885.49  296.04  388.00     98.484     98.502   \n",
              "1989-02-07  2072.8       883.82  299.63  392.75     98.438     98.312   \n",
              "\n",
              "            French-10Y  French-30Y    US-2Y    US-5Y   US-10Y   US-30Y  \\\n",
              "Dates                                                                    \n",
              "1989-02-01      99.572     100.000  100.031  100.345  101.080  101.936   \n",
              "1989-02-02      99.278      99.692  100.000  100.314  101.017  101.905   \n",
              "1989-02-03      99.145      99.178   99.812  100.062  100.921  101.718   \n",
              "1989-02-06      98.510      97.739   99.812  100.062  100.794  101.468   \n",
              "1989-02-07      98.292      97.688   99.906  100.251  101.144  102.092   \n",
              "\n",
              "            Russel2000  EuroStox_Small  FTSE_Small  MSCI_EM     CRB  target  \n",
              "Dates                                                                        \n",
              "1989-02-01      154.38          117.50     1636.57  133.584  286.67       0  \n",
              "1989-02-02      154.94          117.69     1642.94  135.052  287.03       1  \n",
              "1989-02-03      155.69          118.62     1659.11  137.134  285.63       0  \n",
              "1989-02-06      155.58          118.89     1656.86  137.037  284.69       1  \n",
              "1989-02-07      156.84          118.28     1662.76  136.914  284.21       0  "
            ],
            "text/html": [
              "\n",
              "  <div id=\"df-76abdd15-b7fa-43b9-935b-7573f27fa6df\">\n",
              "    <div class=\"colab-df-container\">\n",
              "      <div>\n",
              "<style scoped>\n",
              "    .dataframe tbody tr th:only-of-type {\n",
              "        vertical-align: middle;\n",
              "    }\n",
              "\n",
              "    .dataframe tbody tr th {\n",
              "        vertical-align: top;\n",
              "    }\n",
              "\n",
              "    .dataframe thead th {\n",
              "        text-align: right;\n",
              "    }\n",
              "</style>\n",
              "<table border=\"1\" class=\"dataframe\">\n",
              "  <thead>\n",
              "    <tr style=\"text-align: right;\">\n",
              "      <th></th>\n",
              "      <th>FTSE</th>\n",
              "      <th>EuroStoxx50</th>\n",
              "      <th>SP500</th>\n",
              "      <th>Gold</th>\n",
              "      <th>French-2Y</th>\n",
              "      <th>French-5Y</th>\n",
              "      <th>French-10Y</th>\n",
              "      <th>French-30Y</th>\n",
              "      <th>US-2Y</th>\n",
              "      <th>US-5Y</th>\n",
              "      <th>US-10Y</th>\n",
              "      <th>US-30Y</th>\n",
              "      <th>Russel2000</th>\n",
              "      <th>EuroStox_Small</th>\n",
              "      <th>FTSE_Small</th>\n",
              "      <th>MSCI_EM</th>\n",
              "      <th>CRB</th>\n",
              "      <th>target</th>\n",
              "    </tr>\n",
              "    <tr>\n",
              "      <th>Dates</th>\n",
              "      <th></th>\n",
              "      <th></th>\n",
              "      <th></th>\n",
              "      <th></th>\n",
              "      <th></th>\n",
              "      <th></th>\n",
              "      <th></th>\n",
              "      <th></th>\n",
              "      <th></th>\n",
              "      <th></th>\n",
              "      <th></th>\n",
              "      <th></th>\n",
              "      <th></th>\n",
              "      <th></th>\n",
              "      <th></th>\n",
              "      <th></th>\n",
              "      <th></th>\n",
              "      <th></th>\n",
              "    </tr>\n",
              "  </thead>\n",
              "  <tbody>\n",
              "    <tr>\n",
              "      <th>1989-02-01</th>\n",
              "      <td>2039.7</td>\n",
              "      <td>875.47</td>\n",
              "      <td>297.09</td>\n",
              "      <td>392.50</td>\n",
              "      <td>99.081</td>\n",
              "      <td>99.039</td>\n",
              "      <td>99.572</td>\n",
              "      <td>100.000</td>\n",
              "      <td>100.031</td>\n",
              "      <td>100.345</td>\n",
              "      <td>101.080</td>\n",
              "      <td>101.936</td>\n",
              "      <td>154.38</td>\n",
              "      <td>117.50</td>\n",
              "      <td>1636.57</td>\n",
              "      <td>133.584</td>\n",
              "      <td>286.67</td>\n",
              "      <td>0</td>\n",
              "    </tr>\n",
              "    <tr>\n",
              "      <th>1989-02-02</th>\n",
              "      <td>2043.4</td>\n",
              "      <td>878.08</td>\n",
              "      <td>296.84</td>\n",
              "      <td>392.00</td>\n",
              "      <td>98.898</td>\n",
              "      <td>99.117</td>\n",
              "      <td>99.278</td>\n",
              "      <td>99.692</td>\n",
              "      <td>100.000</td>\n",
              "      <td>100.314</td>\n",
              "      <td>101.017</td>\n",
              "      <td>101.905</td>\n",
              "      <td>154.94</td>\n",
              "      <td>117.69</td>\n",
              "      <td>1642.94</td>\n",
              "      <td>135.052</td>\n",
              "      <td>287.03</td>\n",
              "      <td>1</td>\n",
              "    </tr>\n",
              "    <tr>\n",
              "      <th>1989-02-03</th>\n",
              "      <td>2069.9</td>\n",
              "      <td>884.09</td>\n",
              "      <td>296.97</td>\n",
              "      <td>388.75</td>\n",
              "      <td>98.907</td>\n",
              "      <td>99.002</td>\n",
              "      <td>99.145</td>\n",
              "      <td>99.178</td>\n",
              "      <td>99.812</td>\n",
              "      <td>100.062</td>\n",
              "      <td>100.921</td>\n",
              "      <td>101.718</td>\n",
              "      <td>155.69</td>\n",
              "      <td>118.62</td>\n",
              "      <td>1659.11</td>\n",
              "      <td>137.134</td>\n",
              "      <td>285.63</td>\n",
              "      <td>0</td>\n",
              "    </tr>\n",
              "    <tr>\n",
              "      <th>1989-02-06</th>\n",
              "      <td>2044.3</td>\n",
              "      <td>885.49</td>\n",
              "      <td>296.04</td>\n",
              "      <td>388.00</td>\n",
              "      <td>98.484</td>\n",
              "      <td>98.502</td>\n",
              "      <td>98.510</td>\n",
              "      <td>97.739</td>\n",
              "      <td>99.812</td>\n",
              "      <td>100.062</td>\n",
              "      <td>100.794</td>\n",
              "      <td>101.468</td>\n",
              "      <td>155.58</td>\n",
              "      <td>118.89</td>\n",
              "      <td>1656.86</td>\n",
              "      <td>137.037</td>\n",
              "      <td>284.69</td>\n",
              "      <td>1</td>\n",
              "    </tr>\n",
              "    <tr>\n",
              "      <th>1989-02-07</th>\n",
              "      <td>2072.8</td>\n",
              "      <td>883.82</td>\n",
              "      <td>299.63</td>\n",
              "      <td>392.75</td>\n",
              "      <td>98.438</td>\n",
              "      <td>98.312</td>\n",
              "      <td>98.292</td>\n",
              "      <td>97.688</td>\n",
              "      <td>99.906</td>\n",
              "      <td>100.251</td>\n",
              "      <td>101.144</td>\n",
              "      <td>102.092</td>\n",
              "      <td>156.84</td>\n",
              "      <td>118.28</td>\n",
              "      <td>1662.76</td>\n",
              "      <td>136.914</td>\n",
              "      <td>284.21</td>\n",
              "      <td>0</td>\n",
              "    </tr>\n",
              "  </tbody>\n",
              "</table>\n",
              "</div>\n",
              "      <button class=\"colab-df-convert\" onclick=\"convertToInteractive('df-76abdd15-b7fa-43b9-935b-7573f27fa6df')\"\n",
              "              title=\"Convert this dataframe to an interactive table.\"\n",
              "              style=\"display:none;\">\n",
              "        \n",
              "  <svg xmlns=\"http://www.w3.org/2000/svg\" height=\"24px\"viewBox=\"0 0 24 24\"\n",
              "       width=\"24px\">\n",
              "    <path d=\"M0 0h24v24H0V0z\" fill=\"none\"/>\n",
              "    <path d=\"M18.56 5.44l.94 2.06.94-2.06 2.06-.94-2.06-.94-.94-2.06-.94 2.06-2.06.94zm-11 1L8.5 8.5l.94-2.06 2.06-.94-2.06-.94L8.5 2.5l-.94 2.06-2.06.94zm10 10l.94 2.06.94-2.06 2.06-.94-2.06-.94-.94-2.06-.94 2.06-2.06.94z\"/><path d=\"M17.41 7.96l-1.37-1.37c-.4-.4-.92-.59-1.43-.59-.52 0-1.04.2-1.43.59L10.3 9.45l-7.72 7.72c-.78.78-.78 2.05 0 2.83L4 21.41c.39.39.9.59 1.41.59.51 0 1.02-.2 1.41-.59l7.78-7.78 2.81-2.81c.8-.78.8-2.07 0-2.86zM5.41 20L4 18.59l7.72-7.72 1.47 1.35L5.41 20z\"/>\n",
              "  </svg>\n",
              "      </button>\n",
              "      \n",
              "  <style>\n",
              "    .colab-df-container {\n",
              "      display:flex;\n",
              "      flex-wrap:wrap;\n",
              "      gap: 12px;\n",
              "    }\n",
              "\n",
              "    .colab-df-convert {\n",
              "      background-color: #E8F0FE;\n",
              "      border: none;\n",
              "      border-radius: 50%;\n",
              "      cursor: pointer;\n",
              "      display: none;\n",
              "      fill: #1967D2;\n",
              "      height: 32px;\n",
              "      padding: 0 0 0 0;\n",
              "      width: 32px;\n",
              "    }\n",
              "\n",
              "    .colab-df-convert:hover {\n",
              "      background-color: #E2EBFA;\n",
              "      box-shadow: 0px 1px 2px rgba(60, 64, 67, 0.3), 0px 1px 3px 1px rgba(60, 64, 67, 0.15);\n",
              "      fill: #174EA6;\n",
              "    }\n",
              "\n",
              "    [theme=dark] .colab-df-convert {\n",
              "      background-color: #3B4455;\n",
              "      fill: #D2E3FC;\n",
              "    }\n",
              "\n",
              "    [theme=dark] .colab-df-convert:hover {\n",
              "      background-color: #434B5C;\n",
              "      box-shadow: 0px 1px 3px 1px rgba(0, 0, 0, 0.15);\n",
              "      filter: drop-shadow(0px 1px 2px rgba(0, 0, 0, 0.3));\n",
              "      fill: #FFFFFF;\n",
              "    }\n",
              "  </style>\n",
              "\n",
              "      <script>\n",
              "        const buttonEl =\n",
              "          document.querySelector('#df-76abdd15-b7fa-43b9-935b-7573f27fa6df button.colab-df-convert');\n",
              "        buttonEl.style.display =\n",
              "          google.colab.kernel.accessAllowed ? 'block' : 'none';\n",
              "\n",
              "        async function convertToInteractive(key) {\n",
              "          const element = document.querySelector('#df-76abdd15-b7fa-43b9-935b-7573f27fa6df');\n",
              "          const dataTable =\n",
              "            await google.colab.kernel.invokeFunction('convertToInteractive',\n",
              "                                                     [key], {});\n",
              "          if (!dataTable) return;\n",
              "\n",
              "          const docLinkHtml = 'Like what you see? Visit the ' +\n",
              "            '<a target=\"_blank\" href=https://colab.research.google.com/notebooks/data_table.ipynb>data table notebook</a>'\n",
              "            + ' to learn more about interactive tables.';\n",
              "          element.innerHTML = '';\n",
              "          dataTable['output_type'] = 'display_data';\n",
              "          await google.colab.output.renderOutput(dataTable, element);\n",
              "          const docLink = document.createElement('div');\n",
              "          docLink.innerHTML = docLinkHtml;\n",
              "          element.appendChild(docLink);\n",
              "        }\n",
              "      </script>\n",
              "    </div>\n",
              "  </div>\n",
              "  "
            ]
          },
          "metadata": {},
          "execution_count": 2
        }
      ]
    },
    {
      "cell_type": "markdown",
      "source": [
        "**EDA**"
      ],
      "metadata": {
        "id": "V8o3zsZVlozE"
      }
    },
    {
      "cell_type": "code",
      "source": [
        "df.describe()"
      ],
      "metadata": {
        "colab": {
          "base_uri": "https://localhost:8080/",
          "height": 364
        },
        "id": "CEnqTYwXlnWl",
        "outputId": "3b5cb569-293c-47ec-e590-e1b963d6b7a5"
      },
      "execution_count": 3,
      "outputs": [
        {
          "output_type": "execute_result",
          "data": {
            "text/plain": [
              "              FTSE  EuroStoxx50        SP500         Gold    French-2Y  \\\n",
              "count  7682.000000  7682.000000  7682.000000  7682.000000  7682.000000   \n",
              "mean   4963.027135  2676.173213  1158.608469   699.251304   103.851192   \n",
              "std    1542.440297  1093.593906   588.816044   456.205247     4.651301   \n",
              "min    1990.200000   818.500000   287.110000   252.850000    89.925000   \n",
              "25%    3727.525000  1637.457500   657.795000   350.775000   101.253750   \n",
              "50%    5290.915000  2795.350000  1149.775000   400.350000   104.839000   \n",
              "75%    6210.170000  3448.370250  1417.252500  1178.305000   107.470000   \n",
              "max    7877.450000  5464.430000  2872.870000  1898.250000   111.218000   \n",
              "\n",
              "         French-5Y   French-10Y   French-30Y        US-2Y        US-5Y  \\\n",
              "count  7682.000000  7682.000000  7682.000000  7682.000000  7682.000000   \n",
              "mean    125.639842   139.493888   170.176966   114.683909   126.287628   \n",
              "std      18.055983    32.718964    59.922221     8.245838    16.734645   \n",
              "min      91.211000    88.147000    80.873000    98.684000    97.479000   \n",
              "25%     112.337750   118.374000   124.697750   108.046000   112.711250   \n",
              "50%     125.603000   134.802500   160.969000   112.918000   120.744000   \n",
              "75%     140.479250   153.394000   195.394250   124.067500   143.552500   \n",
              "max     157.860000   217.376000   345.245000   126.921000   156.652000   \n",
              "\n",
              "            US-10Y       US-30Y   Russel2000  EuroStox_Small   FTSE_Small  \\\n",
              "count  7682.000000  7682.000000  7682.000000     7682.000000  7682.000000   \n",
              "mean    125.313396   133.803908   607.680260      151.079944  2865.501070   \n",
              "std      16.605920    21.411653   363.377082       48.682885  1157.500615   \n",
              "min      97.361000    96.579000   118.820000       76.890000  1093.520000   \n",
              "25%     112.618000   117.291000   333.782500      112.041500  1933.072500   \n",
              "50%     120.574000   130.331000   510.550000      138.530000  2696.885000   \n",
              "75%     139.496500   146.128750   793.025000      188.859500  3412.010000   \n",
              "max     163.328000   195.414000  1706.990000      279.741000  6048.960000   \n",
              "\n",
              "           MSCI_EM          CRB       target  \n",
              "count  7682.000000  7682.000000  7682.000000  \n",
              "mean    628.805674   333.979130     0.517574  \n",
              "std     315.914953    95.804692     0.499724  \n",
              "min     133.584000   205.620000     0.000000  \n",
              "25%     348.189250   250.762500     0.000000  \n",
              "50%     513.179500   294.740000     1.000000  \n",
              "75%     952.422000   422.370000     1.000000  \n",
              "max    1338.487000   580.490000     1.000000  "
            ],
            "text/html": [
              "\n",
              "  <div id=\"df-4679ec05-0b32-4abf-a659-87574a39abff\">\n",
              "    <div class=\"colab-df-container\">\n",
              "      <div>\n",
              "<style scoped>\n",
              "    .dataframe tbody tr th:only-of-type {\n",
              "        vertical-align: middle;\n",
              "    }\n",
              "\n",
              "    .dataframe tbody tr th {\n",
              "        vertical-align: top;\n",
              "    }\n",
              "\n",
              "    .dataframe thead th {\n",
              "        text-align: right;\n",
              "    }\n",
              "</style>\n",
              "<table border=\"1\" class=\"dataframe\">\n",
              "  <thead>\n",
              "    <tr style=\"text-align: right;\">\n",
              "      <th></th>\n",
              "      <th>FTSE</th>\n",
              "      <th>EuroStoxx50</th>\n",
              "      <th>SP500</th>\n",
              "      <th>Gold</th>\n",
              "      <th>French-2Y</th>\n",
              "      <th>French-5Y</th>\n",
              "      <th>French-10Y</th>\n",
              "      <th>French-30Y</th>\n",
              "      <th>US-2Y</th>\n",
              "      <th>US-5Y</th>\n",
              "      <th>US-10Y</th>\n",
              "      <th>US-30Y</th>\n",
              "      <th>Russel2000</th>\n",
              "      <th>EuroStox_Small</th>\n",
              "      <th>FTSE_Small</th>\n",
              "      <th>MSCI_EM</th>\n",
              "      <th>CRB</th>\n",
              "      <th>target</th>\n",
              "    </tr>\n",
              "  </thead>\n",
              "  <tbody>\n",
              "    <tr>\n",
              "      <th>count</th>\n",
              "      <td>7682.000000</td>\n",
              "      <td>7682.000000</td>\n",
              "      <td>7682.000000</td>\n",
              "      <td>7682.000000</td>\n",
              "      <td>7682.000000</td>\n",
              "      <td>7682.000000</td>\n",
              "      <td>7682.000000</td>\n",
              "      <td>7682.000000</td>\n",
              "      <td>7682.000000</td>\n",
              "      <td>7682.000000</td>\n",
              "      <td>7682.000000</td>\n",
              "      <td>7682.000000</td>\n",
              "      <td>7682.000000</td>\n",
              "      <td>7682.000000</td>\n",
              "      <td>7682.000000</td>\n",
              "      <td>7682.000000</td>\n",
              "      <td>7682.000000</td>\n",
              "      <td>7682.000000</td>\n",
              "    </tr>\n",
              "    <tr>\n",
              "      <th>mean</th>\n",
              "      <td>4963.027135</td>\n",
              "      <td>2676.173213</td>\n",
              "      <td>1158.608469</td>\n",
              "      <td>699.251304</td>\n",
              "      <td>103.851192</td>\n",
              "      <td>125.639842</td>\n",
              "      <td>139.493888</td>\n",
              "      <td>170.176966</td>\n",
              "      <td>114.683909</td>\n",
              "      <td>126.287628</td>\n",
              "      <td>125.313396</td>\n",
              "      <td>133.803908</td>\n",
              "      <td>607.680260</td>\n",
              "      <td>151.079944</td>\n",
              "      <td>2865.501070</td>\n",
              "      <td>628.805674</td>\n",
              "      <td>333.979130</td>\n",
              "      <td>0.517574</td>\n",
              "    </tr>\n",
              "    <tr>\n",
              "      <th>std</th>\n",
              "      <td>1542.440297</td>\n",
              "      <td>1093.593906</td>\n",
              "      <td>588.816044</td>\n",
              "      <td>456.205247</td>\n",
              "      <td>4.651301</td>\n",
              "      <td>18.055983</td>\n",
              "      <td>32.718964</td>\n",
              "      <td>59.922221</td>\n",
              "      <td>8.245838</td>\n",
              "      <td>16.734645</td>\n",
              "      <td>16.605920</td>\n",
              "      <td>21.411653</td>\n",
              "      <td>363.377082</td>\n",
              "      <td>48.682885</td>\n",
              "      <td>1157.500615</td>\n",
              "      <td>315.914953</td>\n",
              "      <td>95.804692</td>\n",
              "      <td>0.499724</td>\n",
              "    </tr>\n",
              "    <tr>\n",
              "      <th>min</th>\n",
              "      <td>1990.200000</td>\n",
              "      <td>818.500000</td>\n",
              "      <td>287.110000</td>\n",
              "      <td>252.850000</td>\n",
              "      <td>89.925000</td>\n",
              "      <td>91.211000</td>\n",
              "      <td>88.147000</td>\n",
              "      <td>80.873000</td>\n",
              "      <td>98.684000</td>\n",
              "      <td>97.479000</td>\n",
              "      <td>97.361000</td>\n",
              "      <td>96.579000</td>\n",
              "      <td>118.820000</td>\n",
              "      <td>76.890000</td>\n",
              "      <td>1093.520000</td>\n",
              "      <td>133.584000</td>\n",
              "      <td>205.620000</td>\n",
              "      <td>0.000000</td>\n",
              "    </tr>\n",
              "    <tr>\n",
              "      <th>25%</th>\n",
              "      <td>3727.525000</td>\n",
              "      <td>1637.457500</td>\n",
              "      <td>657.795000</td>\n",
              "      <td>350.775000</td>\n",
              "      <td>101.253750</td>\n",
              "      <td>112.337750</td>\n",
              "      <td>118.374000</td>\n",
              "      <td>124.697750</td>\n",
              "      <td>108.046000</td>\n",
              "      <td>112.711250</td>\n",
              "      <td>112.618000</td>\n",
              "      <td>117.291000</td>\n",
              "      <td>333.782500</td>\n",
              "      <td>112.041500</td>\n",
              "      <td>1933.072500</td>\n",
              "      <td>348.189250</td>\n",
              "      <td>250.762500</td>\n",
              "      <td>0.000000</td>\n",
              "    </tr>\n",
              "    <tr>\n",
              "      <th>50%</th>\n",
              "      <td>5290.915000</td>\n",
              "      <td>2795.350000</td>\n",
              "      <td>1149.775000</td>\n",
              "      <td>400.350000</td>\n",
              "      <td>104.839000</td>\n",
              "      <td>125.603000</td>\n",
              "      <td>134.802500</td>\n",
              "      <td>160.969000</td>\n",
              "      <td>112.918000</td>\n",
              "      <td>120.744000</td>\n",
              "      <td>120.574000</td>\n",
              "      <td>130.331000</td>\n",
              "      <td>510.550000</td>\n",
              "      <td>138.530000</td>\n",
              "      <td>2696.885000</td>\n",
              "      <td>513.179500</td>\n",
              "      <td>294.740000</td>\n",
              "      <td>1.000000</td>\n",
              "    </tr>\n",
              "    <tr>\n",
              "      <th>75%</th>\n",
              "      <td>6210.170000</td>\n",
              "      <td>3448.370250</td>\n",
              "      <td>1417.252500</td>\n",
              "      <td>1178.305000</td>\n",
              "      <td>107.470000</td>\n",
              "      <td>140.479250</td>\n",
              "      <td>153.394000</td>\n",
              "      <td>195.394250</td>\n",
              "      <td>124.067500</td>\n",
              "      <td>143.552500</td>\n",
              "      <td>139.496500</td>\n",
              "      <td>146.128750</td>\n",
              "      <td>793.025000</td>\n",
              "      <td>188.859500</td>\n",
              "      <td>3412.010000</td>\n",
              "      <td>952.422000</td>\n",
              "      <td>422.370000</td>\n",
              "      <td>1.000000</td>\n",
              "    </tr>\n",
              "    <tr>\n",
              "      <th>max</th>\n",
              "      <td>7877.450000</td>\n",
              "      <td>5464.430000</td>\n",
              "      <td>2872.870000</td>\n",
              "      <td>1898.250000</td>\n",
              "      <td>111.218000</td>\n",
              "      <td>157.860000</td>\n",
              "      <td>217.376000</td>\n",
              "      <td>345.245000</td>\n",
              "      <td>126.921000</td>\n",
              "      <td>156.652000</td>\n",
              "      <td>163.328000</td>\n",
              "      <td>195.414000</td>\n",
              "      <td>1706.990000</td>\n",
              "      <td>279.741000</td>\n",
              "      <td>6048.960000</td>\n",
              "      <td>1338.487000</td>\n",
              "      <td>580.490000</td>\n",
              "      <td>1.000000</td>\n",
              "    </tr>\n",
              "  </tbody>\n",
              "</table>\n",
              "</div>\n",
              "      <button class=\"colab-df-convert\" onclick=\"convertToInteractive('df-4679ec05-0b32-4abf-a659-87574a39abff')\"\n",
              "              title=\"Convert this dataframe to an interactive table.\"\n",
              "              style=\"display:none;\">\n",
              "        \n",
              "  <svg xmlns=\"http://www.w3.org/2000/svg\" height=\"24px\"viewBox=\"0 0 24 24\"\n",
              "       width=\"24px\">\n",
              "    <path d=\"M0 0h24v24H0V0z\" fill=\"none\"/>\n",
              "    <path d=\"M18.56 5.44l.94 2.06.94-2.06 2.06-.94-2.06-.94-.94-2.06-.94 2.06-2.06.94zm-11 1L8.5 8.5l.94-2.06 2.06-.94-2.06-.94L8.5 2.5l-.94 2.06-2.06.94zm10 10l.94 2.06.94-2.06 2.06-.94-2.06-.94-.94-2.06-.94 2.06-2.06.94z\"/><path d=\"M17.41 7.96l-1.37-1.37c-.4-.4-.92-.59-1.43-.59-.52 0-1.04.2-1.43.59L10.3 9.45l-7.72 7.72c-.78.78-.78 2.05 0 2.83L4 21.41c.39.39.9.59 1.41.59.51 0 1.02-.2 1.41-.59l7.78-7.78 2.81-2.81c.8-.78.8-2.07 0-2.86zM5.41 20L4 18.59l7.72-7.72 1.47 1.35L5.41 20z\"/>\n",
              "  </svg>\n",
              "      </button>\n",
              "      \n",
              "  <style>\n",
              "    .colab-df-container {\n",
              "      display:flex;\n",
              "      flex-wrap:wrap;\n",
              "      gap: 12px;\n",
              "    }\n",
              "\n",
              "    .colab-df-convert {\n",
              "      background-color: #E8F0FE;\n",
              "      border: none;\n",
              "      border-radius: 50%;\n",
              "      cursor: pointer;\n",
              "      display: none;\n",
              "      fill: #1967D2;\n",
              "      height: 32px;\n",
              "      padding: 0 0 0 0;\n",
              "      width: 32px;\n",
              "    }\n",
              "\n",
              "    .colab-df-convert:hover {\n",
              "      background-color: #E2EBFA;\n",
              "      box-shadow: 0px 1px 2px rgba(60, 64, 67, 0.3), 0px 1px 3px 1px rgba(60, 64, 67, 0.15);\n",
              "      fill: #174EA6;\n",
              "    }\n",
              "\n",
              "    [theme=dark] .colab-df-convert {\n",
              "      background-color: #3B4455;\n",
              "      fill: #D2E3FC;\n",
              "    }\n",
              "\n",
              "    [theme=dark] .colab-df-convert:hover {\n",
              "      background-color: #434B5C;\n",
              "      box-shadow: 0px 1px 3px 1px rgba(0, 0, 0, 0.15);\n",
              "      filter: drop-shadow(0px 1px 2px rgba(0, 0, 0, 0.3));\n",
              "      fill: #FFFFFF;\n",
              "    }\n",
              "  </style>\n",
              "\n",
              "      <script>\n",
              "        const buttonEl =\n",
              "          document.querySelector('#df-4679ec05-0b32-4abf-a659-87574a39abff button.colab-df-convert');\n",
              "        buttonEl.style.display =\n",
              "          google.colab.kernel.accessAllowed ? 'block' : 'none';\n",
              "\n",
              "        async function convertToInteractive(key) {\n",
              "          const element = document.querySelector('#df-4679ec05-0b32-4abf-a659-87574a39abff');\n",
              "          const dataTable =\n",
              "            await google.colab.kernel.invokeFunction('convertToInteractive',\n",
              "                                                     [key], {});\n",
              "          if (!dataTable) return;\n",
              "\n",
              "          const docLinkHtml = 'Like what you see? Visit the ' +\n",
              "            '<a target=\"_blank\" href=https://colab.research.google.com/notebooks/data_table.ipynb>data table notebook</a>'\n",
              "            + ' to learn more about interactive tables.';\n",
              "          element.innerHTML = '';\n",
              "          dataTable['output_type'] = 'display_data';\n",
              "          await google.colab.output.renderOutput(dataTable, element);\n",
              "          const docLink = document.createElement('div');\n",
              "          docLink.innerHTML = docLinkHtml;\n",
              "          element.appendChild(docLink);\n",
              "        }\n",
              "      </script>\n",
              "    </div>\n",
              "  </div>\n",
              "  "
            ]
          },
          "metadata": {},
          "execution_count": 3
        }
      ]
    },
    {
      "cell_type": "code",
      "source": [
        "# histograms\n",
        "df.hist(sharex=False, sharey=False, xlabelsize=1, ylabelsize=1, figsize=(12,12))\n",
        "plt.show()"
      ],
      "metadata": {
        "colab": {
          "base_uri": "https://localhost:8080/",
          "height": 707
        },
        "id": "E6g0KpAVmE8n",
        "outputId": "3ae3cb1b-ff46-47a4-a770-2ba7a4d669e9"
      },
      "execution_count": 4,
      "outputs": [
        {
          "output_type": "display_data",
          "data": {
            "text/plain": [
              "<Figure size 864x864 with 20 Axes>"
            ],
            "image/png": "[encoded data removed]"
          },
          "metadata": {
            "needs_background": "light"
          }
        }
      ]
    },
    {
      "cell_type": "code",
      "source": [
        "# correlation\n",
        "correlation = df.corr()\n",
        "plt.figure(figsize=(10,10))\n",
        "plt.title('Correlation Matrix')\n",
        "sns.heatmap(correlation, vmax=1, square=True,annot=True,cmap='cubehelix')"
      ],
      "metadata": {
        "colab": {
          "base_uri": "https://localhost:8080/",
          "height": 632
        },
        "id": "BR6PdINLmBQo",
        "outputId": "9d27584c-eb00-4002-c16d-7f4094d256f1"
      },
      "execution_count": 5,
      "outputs": [
        {
          "output_type": "execute_result",
          "data": {
            "text/plain": [
              "<matplotlib.axes._subplots.AxesSubplot at 0x7f433be2c400>"
            ]
          },
          "metadata": {},
          "execution_count": 5
        },
        {
          "output_type": "display_data",
          "data": {
            "text/plain": [
              "<Figure size 720x720 with 2 Axes>"
            ],
            "image/png": "[encoded data removed]"
          },
          "metadata": {
            "needs_background": "light"
          }
        }
      ]
    },
    {
      "cell_type": "markdown",
      "source": [
        "### Train Test Split"
      ],
      "metadata": {
        "id": "8KjWNbXqfZju"
      }
    },
    {
      "cell_type": "code",
      "source": [
        "from sklearn.model_selection import train_test_split\n",
        "y = df.pop(\"target\")\n",
        "X = df.copy()\n",
        "\n",
        "X_train = X[X.index.astype(str)<'2018-01-01']\n",
        "y_train = y[X_train.index]\n",
        "X_test = X[~X.index.isin(X_train.index)]\n",
        "y_test = y[X_test.index]\n",
        "\n",
        "# X_train, X_test, y_train, y_test = train_test_split(X, y, test_size=0.2, shuffle=False)"
      ],
      "metadata": {
        "id": "IZjqGkgbfYIb"
      },
      "execution_count": 6,
      "outputs": []
    },
    {
      "cell_type": "markdown",
      "source": [
        "### Transforming"
      ],
      "metadata": {
        "id": "8khPX0DTStdP"
      }
    },
    {
      "cell_type": "markdown",
      "source": [
        "1. Refresh your mind on tranformation methods by going back to the material. I am simply providing 1 example here. \n",
        "1. Don't repeat my logarithmic return calculation, develop your own transformation (there are 1000s of types of transformations).\n",
        "1. In the example I provide, there is also an error that you have to fix. For example, one of the errors below is that you should actually use `np.log1p()`, but there is another one, so watch out! "
      ],
      "metadata": {
        "id": "y6ZyMnQ__B49"
      }
    },
    {
      "cell_type": "code",
      "source": [
        "# Example Transforming (has errors) \n",
        "\n",
        "# Name: Logarithmic return of FTSE \n",
        "# Description: Developing the logarithmic return feature for use within linear models that make normality assumptions. \n",
        "# In this example transforming, the first error I fixed is changing \"np.log\" to \"np.log1p\". \n",
        "# Because np.log1p(x) equals to np.log(1+x), the logarithmic return is calculated as log(1+return)\n",
        "# The second error is to drop nan for the first row.\n",
        "df[\"FTSE_log\"] = np.log1p(df[\"FTSE\"].pct_change())\n",
        "df = df.dropna()"
      ],
      "metadata": {
        "id": "4dwunC3GSrK2"
      },
      "execution_count": 7,
      "outputs": []
    },
    {
      "cell_type": "code",
      "source": [
        "## Transforming 1 (Add code below)\n",
        "# Name: min-max scaler\n",
        "# Description: min-max scaler is a method of transforming, to transform initial minimum to 0 and maximum to 1.\n",
        "from sklearn.preprocessing import MinMaxScaler\n",
        "scaler = MinMaxScaler()\n",
        "X_train_mm = scaler.fit_transform(X_train.fillna(0))\n",
        "X_test_mm = scaler.transform(X_test.fillna(0))"
      ],
      "metadata": {
        "id": "8JvCCtvoT_2a"
      },
      "execution_count": 8,
      "outputs": []
    },
    {
      "cell_type": "code",
      "source": [
        "## Transforming 2 (Add code below)\n",
        "# Name: max-abs scaler\n",
        "# Description: Maximum absolute scaling scales the data to its maximum value; that is, it divides every observation by the maximum value of the variable.\n",
        "from sklearn.preprocessing import MaxAbsScaler\n",
        "scaler = MaxAbsScaler()\n",
        "X_train_ma = scaler.fit_transform(X_train.fillna(0))\n",
        "X_test_ma = scaler.transform(X_test.fillna(0))"
      ],
      "metadata": {
        "id": "FOCuKHEmT_wU"
      },
      "execution_count": 9,
      "outputs": []
    },
    {
      "cell_type": "code",
      "source": [
        "## Transforming 3 (Add code below)\n",
        "# Name :Standardization\n",
        "# Description: Standardization is the transformation of features by subtracting from mean and dividing by standard deviation.\n",
        "from sklearn.preprocessing import StandardScaler\n",
        "scaler = StandardScaler()\n",
        "X_train_s = scaler.fit_transform(X_train.fillna(0))\n",
        "X_test_s = scaler.transform(X_test.fillna(0))"
      ],
      "metadata": {
        "id": "ghn81UtvPYmF"
      },
      "execution_count": 10,
      "outputs": []
    },
    {
      "cell_type": "markdown",
      "source": [
        "### Interacting"
      ],
      "metadata": {
        "id": "CiyIliYJTJRN"
      }
    },
    {
      "cell_type": "markdown",
      "source": [
        "There are millions of possible interaction methods, be creative and come up with your own. For this assignment there is no 'right' feature engineering method, you simply develop one, and give it a name and a discreption."
      ],
      "metadata": {
        "id": "XWuduQ-m_q7R"
      }
    },
    {
      "cell_type": "code",
      "source": [
        "# Example Interacting (has errors) \n",
        "\n",
        "# Name: Ratio of Gold return to 10Y treasury\n",
        "# Desciption: Both gold and treasuries are safe-haven assets and descrepency in their ratio could be a sign of some marco-economic event.\n",
        "# In this example, the gold return should add pct_change() to calculate the return.\n",
        "# And for some dates that prices of US-10Y or Gold may not change, which leads to a NAN or INF number, these numbers will be filled later in the PCA part.\n",
        "def gold_to_yield(df):\n",
        "  teny_returns = df[\"US-10Y\"].pct_change()\n",
        "  gold_returns = df[\"Gold\"].pct_change()\n",
        "  df[\"gold_r__div__teny_r\"] = gold_returns/teny_returns\n",
        "  return df\n",
        "\n",
        "# X_train = gold_to_yield(X_train); X_test = gold_to_yield(X_test)\n",
        "X_train = gold_to_yield(X_train); X_test = gold_to_yield(X_test)"
      ],
      "metadata": {
        "id": "IN3tnhNUTDK3",
        "colab": {
          "base_uri": "https://localhost:8080/"
        },
        "outputId": "6b28a509-8e13-43f2-8735-13e1a5167df8"
      },
      "execution_count": 11,
      "outputs": [
        {
          "output_type": "stream",
          "name": "stderr",
          "text": [
            "<ipython-input-11-e99b062ce9b2>:10: SettingWithCopyWarning: \n",
            "A value is trying to be set on a copy of a slice from a DataFrame.\n",
            "Try using .loc[row_indexer,col_indexer] = value instead\n",
            "\n",
            "See the caveats in the documentation: https://pandas.pydata.org/pandas-docs/stable/user_guide/indexing.html#returning-a-view-versus-a-copy\n",
            "  df[\"gold_r__div__teny_r\"] = gold_returns/teny_returns\n"
          ]
        }
      ]
    },
    {
      "cell_type": "code",
      "source": [
        "## Interacting 1 (Add code below)\n",
        "# Name: mean value of US treasuries with different years\n",
        "# Description: calculate the mean value of different periods' us treasury to represent the whole situation of US market\n",
        "df[\"US_T_mean\"] = df[['US-2Y','US-5Y','US-10Y','US-30Y']].mean(axis=1)\n",
        "df.head()"
      ],
      "metadata": {
        "id": "hwB5gEVjT1dz",
        "colab": {
          "base_uri": "https://localhost:8080/",
          "height": 475
        },
        "outputId": "71c2d27e-75fc-44c9-f0c2-95854cbefb1f"
      },
      "execution_count": 12,
      "outputs": [
        {
          "output_type": "execute_result",
          "data": {
            "text/plain": [
              "              FTSE  EuroStoxx50   SP500    Gold  French-2Y  French-5Y  \\\n",
              "Dates                                                                   \n",
              "1989-02-02  2043.4       878.08  296.84  392.00     98.898     99.117   \n",
              "1989-02-03  2069.9       884.09  296.97  388.75     98.907     99.002   \n",
              "1989-02-06  2044.3       885.49  296.04  388.00     98.484     98.502   \n",
              "1989-02-07  2072.8       883.82  299.63  392.75     98.438     98.312   \n",
              "1989-02-08  2096.2       891.81  298.65  390.50     98.558     98.658   \n",
              "\n",
              "            French-10Y  French-30Y    US-2Y    US-5Y   US-10Y   US-30Y  \\\n",
              "Dates                                                                    \n",
              "1989-02-02      99.278      99.692  100.000  100.314  101.017  101.905   \n",
              "1989-02-03      99.145      99.178   99.812  100.062  100.921  101.718   \n",
              "1989-02-06      98.510      97.739   99.812  100.062  100.794  101.468   \n",
              "1989-02-07      98.292      97.688   99.906  100.251  101.144  102.092   \n",
              "1989-02-08      98.756      97.893   99.812  100.156  101.016  101.655   \n",
              "\n",
              "            Russel2000  EuroStox_Small  FTSE_Small  MSCI_EM     CRB  FTSE_log  \\\n",
              "Dates                                                                           \n",
              "1989-02-02      154.94          117.69     1642.94  135.052  287.03  0.001812   \n",
              "1989-02-03      155.69          118.62     1659.11  137.134  285.63  0.012885   \n",
              "1989-02-06      155.58          118.89     1656.86  137.037  284.69 -0.012445   \n",
              "1989-02-07      156.84          118.28     1662.76  136.914  284.21  0.013845   \n",
              "1989-02-08      157.00          118.73     1681.85  137.027  284.38  0.011226   \n",
              "\n",
              "            US_T_mean  \n",
              "Dates                  \n",
              "1989-02-02  100.80900  \n",
              "1989-02-03  100.62825  \n",
              "1989-02-06  100.53400  \n",
              "1989-02-07  100.84825  \n",
              "1989-02-08  100.65975  "
            ],
            "text/html": [
              "\n",
              "  <div id=\"df-41703c47-4e29-4933-b674-96370fc90324\">\n",
              "    <div class=\"colab-df-container\">\n",
              "      <div>\n",
              "<style scoped>\n",
              "    .dataframe tbody tr th:only-of-type {\n",
              "        vertical-align: middle;\n",
              "    }\n",
              "\n",
              "    .dataframe tbody tr th {\n",
              "        vertical-align: top;\n",
              "    }\n",
              "\n",
              "    .dataframe thead th {\n",
              "        text-align: right;\n",
              "    }\n",
              "</style>\n",
              "<table border=\"1\" class=\"dataframe\">\n",
              "  <thead>\n",
              "    <tr style=\"text-align: right;\">\n",
              "      <th></th>\n",
              "      <th>FTSE</th>\n",
              "      <th>EuroStoxx50</th>\n",
              "      <th>SP500</th>\n",
              "      <th>Gold</th>\n",
              "      <th>French-2Y</th>\n",
              "      <th>French-5Y</th>\n",
              "      <th>French-10Y</th>\n",
              "      <th>French-30Y</th>\n",
              "      <th>US-2Y</th>\n",
              "      <th>US-5Y</th>\n",
              "      <th>US-10Y</th>\n",
              "      <th>US-30Y</th>\n",
              "      <th>Russel2000</th>\n",
              "      <th>EuroStox_Small</th>\n",
              "      <th>FTSE_Small</th>\n",
              "      <th>MSCI_EM</th>\n",
              "      <th>CRB</th>\n",
              "      <th>FTSE_log</th>\n",
              "      <th>US_T_mean</th>\n",
              "    </tr>\n",
              "    <tr>\n",
              "      <th>Dates</th>\n",
              "      <th></th>\n",
              "      <th></th>\n",
              "      <th></th>\n",
              "      <th></th>\n",
              "      <th></th>\n",
              "      <th></th>\n",
              "      <th></th>\n",
              "      <th></th>\n",
              "      <th></th>\n",
              "      <th></th>\n",
              "      <th></th>\n",
              "      <th></th>\n",
              "      <th></th>\n",
              "      <th></th>\n",
              "      <th></th>\n",
              "      <th></th>\n",
              "      <th></th>\n",
              "      <th></th>\n",
              "      <th></th>\n",
              "    </tr>\n",
              "  </thead>\n",
              "  <tbody>\n",
              "    <tr>\n",
              "      <th>1989-02-02</th>\n",
              "      <td>2043.4</td>\n",
              "      <td>878.08</td>\n",
              "      <td>296.84</td>\n",
              "      <td>392.00</td>\n",
              "      <td>98.898</td>\n",
              "      <td>99.117</td>\n",
              "      <td>99.278</td>\n",
              "      <td>99.692</td>\n",
              "      <td>100.000</td>\n",
              "      <td>100.314</td>\n",
              "      <td>101.017</td>\n",
              "      <td>101.905</td>\n",
              "      <td>154.94</td>\n",
              "      <td>117.69</td>\n",
              "      <td>1642.94</td>\n",
              "      <td>135.052</td>\n",
              "      <td>287.03</td>\n",
              "      <td>0.001812</td>\n",
              "      <td>100.80900</td>\n",
              "    </tr>\n",
              "    <tr>\n",
              "      <th>1989-02-03</th>\n",
              "      <td>2069.9</td>\n",
              "      <td>884.09</td>\n",
              "      <td>296.97</td>\n",
              "      <td>388.75</td>\n",
              "      <td>98.907</td>\n",
              "      <td>99.002</td>\n",
              "      <td>99.145</td>\n",
              "      <td>99.178</td>\n",
              "      <td>99.812</td>\n",
              "      <td>100.062</td>\n",
              "      <td>100.921</td>\n",
              "      <td>101.718</td>\n",
              "      <td>155.69</td>\n",
              "      <td>118.62</td>\n",
              "      <td>1659.11</td>\n",
              "      <td>137.134</td>\n",
              "      <td>285.63</td>\n",
              "      <td>0.012885</td>\n",
              "      <td>100.62825</td>\n",
              "    </tr>\n",
              "    <tr>\n",
              "      <th>1989-02-06</th>\n",
              "      <td>2044.3</td>\n",
              "      <td>885.49</td>\n",
              "      <td>296.04</td>\n",
              "      <td>388.00</td>\n",
              "      <td>98.484</td>\n",
              "      <td>98.502</td>\n",
              "      <td>98.510</td>\n",
              "      <td>97.739</td>\n",
              "      <td>99.812</td>\n",
              "      <td>100.062</td>\n",
              "      <td>100.794</td>\n",
              "      <td>101.468</td>\n",
              "      <td>155.58</td>\n",
              "      <td>118.89</td>\n",
              "      <td>1656.86</td>\n",
              "      <td>137.037</td>\n",
              "      <td>284.69</td>\n",
              "      <td>-0.012445</td>\n",
              "      <td>100.53400</td>\n",
              "    </tr>\n",
              "    <tr>\n",
              "      <th>1989-02-07</th>\n",
              "      <td>2072.8</td>\n",
              "      <td>883.82</td>\n",
              "      <td>299.63</td>\n",
              "      <td>392.75</td>\n",
              "      <td>98.438</td>\n",
              "      <td>98.312</td>\n",
              "      <td>98.292</td>\n",
              "      <td>97.688</td>\n",
              "      <td>99.906</td>\n",
              "      <td>100.251</td>\n",
              "      <td>101.144</td>\n",
              "      <td>102.092</td>\n",
              "      <td>156.84</td>\n",
              "      <td>118.28</td>\n",
              "      <td>1662.76</td>\n",
              "      <td>136.914</td>\n",
              "      <td>284.21</td>\n",
              "      <td>0.013845</td>\n",
              "      <td>100.84825</td>\n",
              "    </tr>\n",
              "    <tr>\n",
              "      <th>1989-02-08</th>\n",
              "      <td>2096.2</td>\n",
              "      <td>891.81</td>\n",
              "      <td>298.65</td>\n",
              "      <td>390.50</td>\n",
              "      <td>98.558</td>\n",
              "      <td>98.658</td>\n",
              "      <td>98.756</td>\n",
              "      <td>97.893</td>\n",
              "      <td>99.812</td>\n",
              "      <td>100.156</td>\n",
              "      <td>101.016</td>\n",
              "      <td>101.655</td>\n",
              "      <td>157.00</td>\n",
              "      <td>118.73</td>\n",
              "      <td>1681.85</td>\n",
              "      <td>137.027</td>\n",
              "      <td>284.38</td>\n",
              "      <td>0.011226</td>\n",
              "      <td>100.65975</td>\n",
              "    </tr>\n",
              "  </tbody>\n",
              "</table>\n",
              "</div>\n",
              "      <button class=\"colab-df-convert\" onclick=\"convertToInteractive('df-41703c47-4e29-4933-b674-96370fc90324')\"\n",
              "              title=\"Convert this dataframe to an interactive table.\"\n",
              "              style=\"display:none;\">\n",
              "        \n",
              "  <svg xmlns=\"http://www.w3.org/2000/svg\" height=\"24px\"viewBox=\"0 0 24 24\"\n",
              "       width=\"24px\">\n",
              "    <path d=\"M0 0h24v24H0V0z\" fill=\"none\"/>\n",
              "    <path d=\"M18.56 5.44l.94 2.06.94-2.06 2.06-.94-2.06-.94-.94-2.06-.94 2.06-2.06.94zm-11 1L8.5 8.5l.94-2.06 2.06-.94-2.06-.94L8.5 2.5l-.94 2.06-2.06.94zm10 10l.94 2.06.94-2.06 2.06-.94-2.06-.94-.94-2.06-.94 2.06-2.06.94z\"/><path d=\"M17.41 7.96l-1.37-1.37c-.4-.4-.92-.59-1.43-.59-.52 0-1.04.2-1.43.59L10.3 9.45l-7.72 7.72c-.78.78-.78 2.05 0 2.83L4 21.41c.39.39.9.59 1.41.59.51 0 1.02-.2 1.41-.59l7.78-7.78 2.81-2.81c.8-.78.8-2.07 0-2.86zM5.41 20L4 18.59l7.72-7.72 1.47 1.35L5.41 20z\"/>\n",
              "  </svg>\n",
              "      </button>\n",
              "      \n",
              "  <style>\n",
              "    .colab-df-container {\n",
              "      display:flex;\n",
              "      flex-wrap:wrap;\n",
              "      gap: 12px;\n",
              "    }\n",
              "\n",
              "    .colab-df-convert {\n",
              "      background-color: #E8F0FE;\n",
              "      border: none;\n",
              "      border-radius: 50%;\n",
              "      cursor: pointer;\n",
              "      display: none;\n",
              "      fill: #1967D2;\n",
              "      height: 32px;\n",
              "      padding: 0 0 0 0;\n",
              "      width: 32px;\n",
              "    }\n",
              "\n",
              "    .colab-df-convert:hover {\n",
              "      background-color: #E2EBFA;\n",
              "      box-shadow: 0px 1px 2px rgba(60, 64, 67, 0.3), 0px 1px 3px 1px rgba(60, 64, 67, 0.15);\n",
              "      fill: #174EA6;\n",
              "    }\n",
              "\n",
              "    [theme=dark] .colab-df-convert {\n",
              "      background-color: #3B4455;\n",
              "      fill: #D2E3FC;\n",
              "    }\n",
              "\n",
              "    [theme=dark] .colab-df-convert:hover {\n",
              "      background-color: #434B5C;\n",
              "      box-shadow: 0px 1px 3px 1px rgba(0, 0, 0, 0.15);\n",
              "      filter: drop-shadow(0px 1px 2px rgba(0, 0, 0, 0.3));\n",
              "      fill: #FFFFFF;\n",
              "    }\n",
              "  </style>\n",
              "\n",
              "      <script>\n",
              "        const buttonEl =\n",
              "          document.querySelector('#df-41703c47-4e29-4933-b674-96370fc90324 button.colab-df-convert');\n",
              "        buttonEl.style.display =\n",
              "          google.colab.kernel.accessAllowed ? 'block' : 'none';\n",
              "\n",
              "        async function convertToInteractive(key) {\n",
              "          const element = document.querySelector('#df-41703c47-4e29-4933-b674-96370fc90324');\n",
              "          const dataTable =\n",
              "            await google.colab.kernel.invokeFunction('convertToInteractive',\n",
              "                                                     [key], {});\n",
              "          if (!dataTable) return;\n",
              "\n",
              "          const docLinkHtml = 'Like what you see? Visit the ' +\n",
              "            '<a target=\"_blank\" href=https://colab.research.google.com/notebooks/data_table.ipynb>data table notebook</a>'\n",
              "            + ' to learn more about interactive tables.';\n",
              "          element.innerHTML = '';\n",
              "          dataTable['output_type'] = 'display_data';\n",
              "          await google.colab.output.renderOutput(dataTable, element);\n",
              "          const docLink = document.createElement('div');\n",
              "          docLink.innerHTML = docLinkHtml;\n",
              "          element.appendChild(docLink);\n",
              "        }\n",
              "      </script>\n",
              "    </div>\n",
              "  </div>\n",
              "  "
            ]
          },
          "metadata": {},
          "execution_count": 12
        }
      ]
    },
    {
      "cell_type": "code",
      "source": [
        "## Interacting 2 (Add code below)\n",
        "# Name: mean value of French Treasuries with different periods\n",
        "# Description: calculate the mean value of different periods' French treasury to display the French market both long-term and short-term.\n",
        "df[\"French_mean\"] = df[['French-2Y','French-5Y','French-10Y','French-30Y']].mean(axis=1)"
      ],
      "metadata": {
        "id": "W-TYsjyUTuF2"
      },
      "execution_count": 13,
      "outputs": []
    },
    {
      "cell_type": "code",
      "source": [
        "## Interacting 3 (Add code below)\n",
        "# Name: Ratio of French 2year's return to US 2year's return\n",
        "# Description: the difference between the fluctuation of US market and French market may indicate the economy around the world\n",
        "def French_to_US(df):\n",
        "  French2Y_returns = df[\"French-2Y\"].pct_change()\n",
        "  US2Y_returns = df[\"US-2Y\"].pct_change()\n",
        "  df[\"French2Y_US2Y\"] = French2Y_returns/US2Y_returns\n",
        "  return df\n",
        "X_train_ftu = French_to_US(X_train); X_test_ftu = French_to_US(X_test)"
      ],
      "metadata": {
        "id": "7iClfjUDPWu2",
        "colab": {
          "base_uri": "https://localhost:8080/"
        },
        "outputId": "1df39152-0c6a-4027-d2eb-00cbd9d94b36"
      },
      "execution_count": 14,
      "outputs": [
        {
          "output_type": "stream",
          "name": "stderr",
          "text": [
            "<ipython-input-14-cd3d1e424172>:7: SettingWithCopyWarning: \n",
            "A value is trying to be set on a copy of a slice from a DataFrame.\n",
            "Try using .loc[row_indexer,col_indexer] = value instead\n",
            "\n",
            "See the caveats in the documentation: https://pandas.pydata.org/pandas-docs/stable/user_guide/indexing.html#returning-a-view-versus-a-copy\n",
            "  df[\"French2Y_US2Y\"] = French2Y_returns/US2Y_returns\n"
          ]
        }
      ]
    },
    {
      "cell_type": "markdown",
      "source": [
        "### Mapping"
      ],
      "metadata": {
        "id": "DwVvQ7NKdy6B"
      }
    },
    {
      "cell_type": "markdown",
      "source": [
        "This one is slightly harder, you have to identify other  dimensionality reduction methods, there are many more than just PCA. Maybe you can also look at performing the decompositions just on a single asset classes, e.g., US-2Y, US-5Y, US-10Y, US-30Y is a fixed income asset class, but there are a few others in the dataset."
      ],
      "metadata": {
        "id": "m4Rc0htlDnrA"
      }
    },
    {
      "cell_type": "code",
      "source": [
        "# Example Mapping (has errors) \n",
        "\n",
        "# Name: First prinicipal component of all of the assets returns\n",
        "# Description:For stocks the first component resmbles the return of the market, for multiple asset classes it could resemble a 'universal' asset class\n",
        "# In this example, the first error that I fixed is to fill all the nan and inf values by the mean value of the column.\n",
        "# Secondly, after the standard scaler transformation, the X_train_s and X_test_s will become a numpy array. So that the fillna(0) function cannot implement to a numpy array.\n",
        "# As a result, I use np.isnan function to fill all the nan value. (Although it may not be any nan value because we filled it with the mean value before.)\n",
        "from sklearn.decomposition import PCA\n",
        "from sklearn.preprocessing import StandardScaler\n",
        "\n",
        "X_test = X_test.replace([np.inf, -np.inf], np.nan)\n",
        "X_test.fillna(X_test.mean(), inplace=True)\n",
        "X_train = X_train.replace([np.inf, -np.inf], np.nan)\n",
        "X_train.fillna(X_train.mean(), inplace=True)\n",
        "\n",
        "def pca_first(X_train, X_test):\n",
        "  sc = StandardScaler()\n",
        "  X_train_s = sc.fit_transform(X_train.fillna(0))\n",
        "  X_test_s = sc.transform(X_test.fillna(0))\n",
        "  X_train_s[np.isnan(X_train_s)]=0\n",
        "  X_test_s[np.isnan(X_test_s)]=0\n",
        "  pca = PCA(1)\n",
        "  X_train[\"first_prinicipal\"] = pca.fit_transform(X_train_s)\n",
        "  X_test[\"first_prinicipal\"] = pca.transform(X_test_s)\n",
        "  return X_train, X_test\n",
        "\n",
        "X_train, X_test = pca_first(X_train, X_test)\n",
        "# # ValueError: Input contains infinity or a value too large for dtype('float64')."
      ],
      "metadata": {
        "id": "IuR-aeFNd0LR"
      },
      "execution_count": 15,
      "outputs": []
    },
    {
      "cell_type": "code",
      "source": [
        "!pip install factor_analyzer"
      ],
      "metadata": {
        "colab": {
          "base_uri": "https://localhost:8080/"
        },
        "id": "ljLCEChAMqAl",
        "outputId": "10161e60-4ca7-4e1a-c248-defbfcdfd1d1"
      },
      "execution_count": 16,
      "outputs": [
        {
          "output_type": "stream",
          "name": "stdout",
          "text": [
            "Looking in indexes: https://pypi.org/simple, https://us-python.pkg.dev/colab-wheels/public/simple/\n",
            "Collecting factor_analyzer\n",
            "  Downloading factor_analyzer-0.4.1.tar.gz (41 kB)\n",
            "\u001b[K     |████████████████████████████████| 41 kB 778 kB/s \n",
            "\u001b[?25h  Installing build dependencies ... \u001b[?25l\u001b[?25hdone\n",
            "  Getting requirements to build wheel ... \u001b[?25l\u001b[?25hdone\n",
            "    Preparing wheel metadata ... \u001b[?25l\u001b[?25hdone\n",
            "Requirement already satisfied: scipy in /usr/local/lib/python3.8/dist-packages (from factor_analyzer) (1.7.3)\n",
            "Requirement already satisfied: scikit-learn in /usr/local/lib/python3.8/dist-packages (from factor_analyzer) (1.0.2)\n",
            "Requirement already satisfied: pandas in /usr/local/lib/python3.8/dist-packages (from factor_analyzer) (1.3.5)\n",
            "Requirement already satisfied: numpy in /usr/local/lib/python3.8/dist-packages (from factor_analyzer) (1.21.6)\n",
            "Collecting pre-commit\n",
            "  Downloading pre_commit-2.20.0-py2.py3-none-any.whl (199 kB)\n",
            "\u001b[K     |████████████████████████████████| 199 kB 25.2 MB/s \n",
            "\u001b[?25hRequirement already satisfied: python-dateutil>=2.7.3 in /usr/local/lib/python3.8/dist-packages (from pandas->factor_analyzer) (2.8.2)\n",
            "Requirement already satisfied: pytz>=2017.3 in /usr/local/lib/python3.8/dist-packages (from pandas->factor_analyzer) (2022.6)\n",
            "Requirement already satisfied: six>=1.5 in /usr/local/lib/python3.8/dist-packages (from python-dateutil>=2.7.3->pandas->factor_analyzer) (1.15.0)\n",
            "Collecting nodeenv>=0.11.1\n",
            "  Downloading nodeenv-1.7.0-py2.py3-none-any.whl (21 kB)\n",
            "Requirement already satisfied: toml in /usr/local/lib/python3.8/dist-packages (from pre-commit->factor_analyzer) (0.10.2)\n",
            "Collecting identify>=1.0.0\n",
            "  Downloading identify-2.5.11-py2.py3-none-any.whl (98 kB)\n",
            "\u001b[K     |████████████████████████████████| 98 kB 9.6 MB/s \n",
            "\u001b[?25hCollecting cfgv>=2.0.0\n",
            "  Downloading cfgv-3.3.1-py2.py3-none-any.whl (7.3 kB)\n",
            "Requirement already satisfied: pyyaml>=5.1 in /usr/local/lib/python3.8/dist-packages (from pre-commit->factor_analyzer) (6.0)\n",
            "Collecting virtualenv>=20.0.8\n",
            "  Downloading virtualenv-20.17.1-py3-none-any.whl (8.8 MB)\n",
            "\u001b[K     |████████████████████████████████| 8.8 MB 77.3 MB/s \n",
            "\u001b[?25hRequirement already satisfied: setuptools in /usr/local/lib/python3.8/dist-packages (from nodeenv>=0.11.1->pre-commit->factor_analyzer) (57.4.0)\n",
            "Requirement already satisfied: filelock<4,>=3.4.1 in /usr/local/lib/python3.8/dist-packages (from virtualenv>=20.0.8->pre-commit->factor_analyzer) (3.8.2)\n",
            "Collecting distlib<1,>=0.3.6\n",
            "  Downloading distlib-0.3.6-py2.py3-none-any.whl (468 kB)\n",
            "\u001b[K     |████████████████████████████████| 468 kB 58.7 MB/s \n",
            "\u001b[?25hRequirement already satisfied: platformdirs<3,>=2.4 in /usr/local/lib/python3.8/dist-packages (from virtualenv>=20.0.8->pre-commit->factor_analyzer) (2.6.0)\n",
            "Requirement already satisfied: threadpoolctl>=2.0.0 in /usr/local/lib/python3.8/dist-packages (from scikit-learn->factor_analyzer) (3.1.0)\n",
            "Requirement already satisfied: joblib>=0.11 in /usr/local/lib/python3.8/dist-packages (from scikit-learn->factor_analyzer) (1.2.0)\n",
            "Building wheels for collected packages: factor-analyzer\n",
            "  Building wheel for factor-analyzer (PEP 517) ... \u001b[?25l\u001b[?25hdone\n",
            "  Created wheel for factor-analyzer: filename=factor_analyzer-0.4.1-py2.py3-none-any.whl size=42034 sha256=3d4b67979f600f9f917db51b1db968a2876f71ac9c6f0f1401649947430e0a75\n",
            "  Stored in directory: /root/.cache/pip/wheels/f5/8f/2e/a689c21bc4bf04f84ceebf4b1f5846cacc04bfe179e7ad5ab0\n",
            "Successfully built factor-analyzer\n",
            "Installing collected packages: distlib, virtualenv, nodeenv, identify, cfgv, pre-commit, factor-analyzer\n",
            "Successfully installed cfgv-3.3.1 distlib-0.3.6 factor-analyzer-0.4.1 identify-2.5.11 nodeenv-1.7.0 pre-commit-2.20.0 virtualenv-20.17.1\n"
          ]
        }
      ]
    },
    {
      "cell_type": "code",
      "source": [
        "## Mapping 1 (Add code below)\n",
        "# Name: factor analyze\n",
        "# Description: Factor Analysis is an approach to find latent variables which are not directly measured in a single variable \n",
        "# but rather inferred from other variables in the dataset.\n",
        "# Here we generate two factors as additional variables.\n",
        "from factor_analyzer import FactorAnalyzer\n",
        "def fa_(X_train, X_test):\n",
        "  sc = StandardScaler()\n",
        "  X_train_s = sc.fit_transform(X_train.fillna(0))\n",
        "  X_test_s = sc.transform(X_test.fillna(0))\n",
        "  X_train_s[np.isnan(X_train_s)]=0\n",
        "  X_test_s[np.isnan(X_test_s)]=0\n",
        "  fa = FactorAnalyzer(2, rotation=\"varimax\", method='minres', use_smc=True)\n",
        "  X_train_fa = fa.fit_transform(X_train_s)\n",
        "  X_test_fa = fa.transform(X_test_s)\n",
        "  return X_train_fa, X_test_fa\n",
        "X_train_fa, X_test_fa = fa_(X_train,X_test)"
      ],
      "metadata": {
        "id": "6XAoLXiajaIO"
      },
      "execution_count": 17,
      "outputs": []
    },
    {
      "cell_type": "code",
      "source": [
        "## Mapping 2 (Add code below)\n",
        "# Name: Truncated Singular Value Decomposition (SVD)\n",
        "# Description: TruncatedSVD is another dimensionality reduction methods.\n",
        "# Here we also define the number of components as 2 and save them in the datasets called X_train_svd and X_test_svd.\n",
        "from sklearn.decomposition import TruncatedSVD\n",
        "def tsvd_(X_train, X_test):\n",
        "  sc = StandardScaler()\n",
        "  X_train_s = sc.fit_transform(X_train.fillna(0))\n",
        "  X_test_s = sc.transform(X_test.fillna(0))\n",
        "  X_train_s[np.isnan(X_train_s)]=0\n",
        "  X_test_s[np.isnan(X_test_s)]=0\n",
        "  svd = TruncatedSVD(n_components=2, algorithm='randomized',random_state=0)\n",
        "  X_train_svd = svd.fit_transform(X_train_s)\n",
        "  X_test_svd = svd.transform(X_test_s)\n",
        "  return X_train_svd, X_test_svd\n",
        "X_train_svd, X_test_svd = tsvd_(X_train,X_test)\n"
      ],
      "metadata": {
        "id": "lUmRlTldjb63"
      },
      "execution_count": 18,
      "outputs": []
    },
    {
      "cell_type": "code",
      "source": [
        "## Mapping 3 (Add code below)\n",
        "# Name: Kernel PCA\n",
        "# Description: Kernel PCA method can be considered as the non-linear form of normal PCA.\n",
        "# This method works well with non-linear datasets.\n",
        "from sklearn.decomposition import KernelPCA\n",
        "def kpca_(X_train,X_test):\n",
        "  sc = StandardScaler()\n",
        "  X_train_s = sc.fit_transform(X_train.fillna(0))\n",
        "  X_test_s = sc.transform(X_test.fillna(0))\n",
        "  X_train_s[np.isnan(X_train_s)]=0\n",
        "  X_test_s[np.isnan(X_test_s)]=0\n",
        "  kpca = KernelPCA(n_components=2, kernel='rbf', gamma=15, random_state=42)\n",
        "  X_train_kpca = kpca.fit_transform(X_train_s)\n",
        "  X_test_kpca = kpca.transform(X_test_s)\n",
        "  return X_train_kpca, X_test_kpca\n",
        "X_train_kpca, X_test_kpca = kpca_(X_train,X_test)"
      ],
      "metadata": {
        "id": "eh6vU15ePTKm"
      },
      "execution_count": 19,
      "outputs": []
    },
    {
      "cell_type": "markdown",
      "source": [
        "Extracting"
      ],
      "metadata": {
        "id": "KtRBRXeRd_ad"
      }
    },
    {
      "cell_type": "code",
      "source": [
        "# Example Extracting (has errors) \n",
        "# Name: Annualized volatility in returns\n",
        "# Description: We are developing an annualized volatility measure for all asset returns, which is a good measure of market turbulence\n",
        "# The first error I fixed here is to change the 365 to 252, because the datasets only contain workdays.\n",
        "# The second is that when we implement this vola function with X_test dataset, because the number of dates is too small for the rolling period, it will contain all nan numbers.\n",
        "# So I change the datasets X_train and X_test with the overall datasets df, to calculate the annualized volatility togethor.\n",
        "# But I wonder it may cause some kinds of data leak because the test data is generated by the historical return.\n",
        "def vola(df):\n",
        "  volatility = df.pct_change().rolling(window=252).std()*(252**0.5)\n",
        "  new_names = [(i,i+'_vol') for i in df.columns.values]\n",
        "  volatility.rename(columns = dict(new_names), inplace=True)\n",
        "  df = pd.concat((df, volatility), axis=1)\n",
        "  df.fillna(df.mean(), inplace=True)\n",
        "  return df\n",
        "\n",
        "df_vo = vola(df)\n",
        "X_train_vo = df[df.index.astype(str)<'2018-01-01']\n",
        "X_test_vo = df[~df.index.isin(X_train_vo.index)]\n",
        "#X_train_vo = vola(X_train); X_test_vo = vola(X_test)"
      ],
      "metadata": {
        "id": "lHpV2LxIeA9i"
      },
      "execution_count": 20,
      "outputs": []
    },
    {
      "cell_type": "code",
      "source": [
        "## Extracting 1 (Add code below)\n",
        "# Name: monthly data\n",
        "# Description: change the daily data into a monthly data\n",
        "def monthly_data(df):\n",
        "  df_dgroup = df.copy()\n",
        "  df_mean = df_dgroup.groupby([pd.Grouper(freq='M', level='Dates')]).mean().add_suffix('_mean')\n",
        "  df_max = df_dgroup.groupby([pd.Grouper(freq='M', level='Dates')]).max().add_suffix('_max')\n",
        "  return df_mean, df_max\n",
        "X_train_mmean, X_train_mmax = monthly_data(X_train)\n",
        "X_test_mmean, X_test_mmean = monthly_data(X_test)"
      ],
      "metadata": {
        "id": "P165fWF9PNdx"
      },
      "execution_count": 21,
      "outputs": []
    },
    {
      "cell_type": "code",
      "source": [
        "## Extracting 2 (Add code below)\n",
        "# Name: 20-day moving average\n",
        "# Description: Moving averages are calculated to identify the trend direction of a stock or to determine its support and resistance levels.\n",
        "df['SP500_MA20'] = df.SP500.rolling(window=20).mean()"
      ],
      "metadata": {
        "id": "GODtIouyPQK-"
      },
      "execution_count": 22,
      "outputs": []
    },
    {
      "cell_type": "code",
      "source": [
        "## Extracting 3 (Add code below)\n",
        "# Name: Bollinger Bands\n",
        "# Description: These bands offer insight and context to a particular security’s trends and indicate potential reversals.\n",
        "df['SP500_SD20'] = df.SP500.rolling(window=20).std()\n",
        "df['SP500_Upper_Band'] = df.SP500.rolling(window=20).mean() + (df['SP500_SD20']*2)\n",
        "df['SP500_Lower_Band'] = df.SP500.rolling(window=20).mean() - (df['SP500_SD20']*2)"
      ],
      "metadata": {
        "id": "Fi2MaoAcPRFH"
      },
      "execution_count": 23,
      "outputs": []
    },
    {
      "cell_type": "markdown",
      "source": [
        "## Deep Learning Binary Classification"
      ],
      "metadata": {
        "id": "WhDvqiPnHccB"
      }
    },
    {
      "cell_type": "markdown",
      "source": [
        "* For the deep learning model you can perform new data preprocessing methods and new feature engineering that are better suited to neural networks. You can also use all or some of the features you developed above (most features work in deep learning models as long as they are normalized).\n",
        "* It is very hard to predict the stock price, so in my grading I will look more at the quality of the model you process (e.g., that there is no data leakage, that you performed some hyperparameter tuning).\n",
        "* Make sure that you switch your GPU on, you have access to it on Colab. The training stage also takes long, you might want to use a smaller amount of data, or fewer epochs at first to speed up your development process.\n",
        "* After your training is done, you don't have to save your model, but you do have to print the performance of your model. You can report two metrics the ROC(AUC) and the Accuracy against the test set. \n",
        "* Also remember to set the random seed (random state) so that when I run your software, I get similar results (the results doesn't have to be exactely the same). \n",
        "* You can choose any type of deep learning archetecture, e.g., LSTM, GRU, CNN, it is up to you.\n",
        "* Remember that this section is less that 25% of the grade, so don't waste your time here. \n",
        "* And lastly, remember this is the stock market, so it is **difficult** to have an accuracy above 50%, good luck!"
      ],
      "metadata": {
        "id": "JoNmgbgWHjGs"
      }
    },
    {
      "cell_type": "code",
      "source": [
        "## Implement Here\n",
        "# I import the dataset again and develop some features to avoid conflicts of features with the first part of the program.\n",
        "import tensorflow as tf\n",
        "from tensorflow.keras.models import Sequential\n",
        "from tensorflow.keras.layers import Dense\n",
        "from tensorflow.keras.layers import LSTM\n",
        "from sklearn.preprocessing import MinMaxScaler\n",
        "from sklearn.metrics import mean_squared_error\n",
        "# preparing our data\n",
        "raw_prices = pd.read_csv(\"https://open-data.s3.filebase.com/assetalloc.csv\", sep=';', parse_dates=True, index_col='Dates', dayfirst=True)\n",
        "df = raw_prices.sort_values(by='Dates')\n",
        "df[\"target\"] = df[\"SP500\"].pct_change().shift(-1)\n",
        "df[\"target\"] = np.where(df[\"target\"]>0,1,0)\n",
        "# Add some features, other features will be added later\n",
        "df[\"FTSE_log\"] = np.log1p(df[\"FTSE\"].pct_change())\n",
        "df[\"EuroStoxx50_log\"] = np.log1p(df[\"EuroStoxx50\"].pct_change())\n",
        "df[\"Russel2000_log\"] = np.log1p(df[\"Russel2000\"].pct_change())\n",
        "df[\"MSCI_EM_log\"] = np.log1p(df[\"MSCI_EM\"].pct_change())\n",
        "df = df.dropna()\n",
        "\n",
        "# fix random seed for reproducibility\n",
        "tf.random.set_seed(5)\n",
        "y = df.pop(\"target\")\n",
        "y = np.array(y)\n",
        "X = df.copy()\n",
        "\n",
        "X_train = X.iloc[:7543,:]\n",
        "y_train = y[:7543]\n",
        "y_train.reshape(len(y_train),1)\n",
        "X_test = X.iloc[7543:,:]\n",
        "y_test = y[7543:]\n",
        "y_test.reshape(len(y_test),1)\n",
        "# Add other features here\n",
        "X_train = gold_to_yield(X_train); X_test = gold_to_yield(X_test)\n",
        "X_train = French_to_US(X_train); X_test = French_to_US(X_test)\n",
        "X_test = X_test.replace([np.inf, -np.inf], np.nan)\n",
        "X_test.fillna(X_test.mean(), inplace=True)\n",
        "X_train = X_train.replace([np.inf, -np.inf], np.nan)\n",
        "X_train.fillna(X_train.mean(), inplace=True)\n",
        "# normalize the dataset\n",
        "scaler = MinMaxScaler(feature_range=(0, 1))\n",
        "X_train = scaler.fit_transform(X_train)\n",
        "X_test = scaler.transform(X_test)\n",
        "\n",
        "train = np.c_[y_train,X_train]\n",
        "test = np.c_[y_test,X_test]\n",
        "print(len(train),len(test))"
      ],
      "metadata": {
        "id": "Rzk2wizgHwlP",
        "colab": {
          "base_uri": "https://localhost:8080/"
        },
        "outputId": "03a41d9a-69f8-4227-db1e-2d9852191ac1"
      },
      "execution_count": 24,
      "outputs": [
        {
          "output_type": "stream",
          "name": "stdout",
          "text": [
            "7543 138\n"
          ]
        },
        {
          "output_type": "stream",
          "name": "stderr",
          "text": [
            "<ipython-input-11-e99b062ce9b2>:10: SettingWithCopyWarning: \n",
            "A value is trying to be set on a copy of a slice from a DataFrame.\n",
            "Try using .loc[row_indexer,col_indexer] = value instead\n",
            "\n",
            "See the caveats in the documentation: https://pandas.pydata.org/pandas-docs/stable/user_guide/indexing.html#returning-a-view-versus-a-copy\n",
            "  df[\"gold_r__div__teny_r\"] = gold_returns/teny_returns\n",
            "<ipython-input-14-cd3d1e424172>:7: SettingWithCopyWarning: \n",
            "A value is trying to be set on a copy of a slice from a DataFrame.\n",
            "Try using .loc[row_indexer,col_indexer] = value instead\n",
            "\n",
            "See the caveats in the documentation: https://pandas.pydata.org/pandas-docs/stable/user_guide/indexing.html#returning-a-view-versus-a-copy\n",
            "  df[\"French2Y_US2Y\"] = French2Y_returns/US2Y_returns\n"
          ]
        }
      ]
    },
    {
      "cell_type": "code",
      "source": [
        "# convert an array of values into a dataset matrix\n",
        "def create_dataset(dataset, look_back):\n",
        "    dataX, dataY = [], []\n",
        "    for i in range(len(dataset)-look_back-1):\n",
        "        a = dataset[i:(i+look_back)]\n",
        "        dataX.append(a)\n",
        "        dataY.append(dataset[i + look_back, 0])\n",
        "    return np.array(dataX),np.array(dataY).reshape(-1,1)\n",
        "features = 24\n",
        "look_back = 1\n",
        "trainX, trainY = create_dataset(train, look_back)\n",
        "testX, testY = create_dataset(test, look_back)\n",
        "# reshape input to be [samples, time steps, features]\n",
        "trainX = np.reshape(trainX, (trainX.shape[0], look_back, features))\n",
        "testX = np.reshape(testX, (testX.shape[0], look_back, features))"
      ],
      "metadata": {
        "id": "n3YWyQ09uC6y"
      },
      "execution_count": 25,
      "outputs": []
    },
    {
      "cell_type": "code",
      "source": [
        "# create and fit the LSTM network\n",
        "model = tf.keras.Sequential()\n",
        "model.add(tf.keras.layers.LSTM(32, activation='relu', input_shape=(look_back, features)))\n",
        "model.add(tf.keras.layers.Dense(1,activation='sigmoid'))\n",
        "model.compile(metrics=['accuracy'], loss='binary_crossentropy', optimizer=tf.keras.optimizers.Adam(learning_rate=0.01))\n",
        "model.summary()"
      ],
      "metadata": {
        "colab": {
          "base_uri": "https://localhost:8080/"
        },
        "id": "eSVydUlquS49",
        "outputId": "dee164b5-49b3-4804-f37e-bc34c764dc1f"
      },
      "execution_count": 26,
      "outputs": [
        {
          "output_type": "stream",
          "name": "stderr",
          "text": [
            "WARNING:tensorflow:Layer lstm will not use cuDNN kernels since it doesn't meet the criteria. It will use a generic GPU kernel as fallback when running on GPU.\n"
          ]
        },
        {
          "output_type": "stream",
          "name": "stdout",
          "text": [
            "Model: \"sequential\"\n",
            "_________________________________________________________________\n",
            " Layer (type)                Output Shape              Param #   \n",
            "=================================================================\n",
            " lstm (LSTM)                 (None, 32)                7296      \n",
            "                                                                 \n",
            " dense (Dense)               (None, 1)                 33        \n",
            "                                                                 \n",
            "=================================================================\n",
            "Total params: 7,329\n",
            "Trainable params: 7,329\n",
            "Non-trainable params: 0\n",
            "_________________________________________________________________\n"
          ]
        }
      ]
    },
    {
      "cell_type": "code",
      "source": [
        "# run the model\n",
        "history = model.fit(trainX, trainY, validation_data = (testX,testY), epochs=100, verbose=1, batch_size=32)"
      ],
      "metadata": {
        "colab": {
          "base_uri": "https://localhost:8080/"
        },
        "id": "kskKSlL2uWax",
        "outputId": "d98ff170-bdce-4179-9169-8853f390fca2"
      },
      "execution_count": 27,
      "outputs": [
        {
          "output_type": "stream",
          "name": "stdout",
          "text": [
            "Epoch 1/100\n",
            "236/236 [==============================] - 9s 14ms/step - loss: 0.6936 - accuracy: 0.5112 - val_loss: 0.6906 - val_accuracy: 0.5515\n",
            "Epoch 2/100\n",
            "236/236 [==============================] - 2s 10ms/step - loss: 0.6930 - accuracy: 0.5105 - val_loss: 0.6910 - val_accuracy: 0.5515\n",
            "Epoch 3/100\n",
            "236/236 [==============================] - 2s 10ms/step - loss: 0.6927 - accuracy: 0.5145 - val_loss: 0.6897 - val_accuracy: 0.5515\n",
            "Epoch 4/100\n",
            "236/236 [==============================] - 2s 10ms/step - loss: 0.6929 - accuracy: 0.5164 - val_loss: 0.6900 - val_accuracy: 0.5515\n",
            "Epoch 5/100\n",
            "236/236 [==============================] - 2s 7ms/step - loss: 0.6927 - accuracy: 0.5169 - val_loss: 0.6919 - val_accuracy: 0.5515\n",
            "Epoch 6/100\n",
            "236/236 [==============================] - 1s 5ms/step - loss: 0.6928 - accuracy: 0.5139 - val_loss: 0.6894 - val_accuracy: 0.5515\n",
            "Epoch 7/100\n",
            "236/236 [==============================] - 1s 5ms/step - loss: 0.6929 - accuracy: 0.5169 - val_loss: 0.6895 - val_accuracy: 0.5515\n",
            "Epoch 8/100\n",
            "236/236 [==============================] - 1s 5ms/step - loss: 0.6928 - accuracy: 0.5169 - val_loss: 0.6903 - val_accuracy: 0.5515\n",
            "Epoch 9/100\n",
            "236/236 [==============================] - 1s 5ms/step - loss: 0.6930 - accuracy: 0.5169 - val_loss: 0.6911 - val_accuracy: 0.5515\n",
            "Epoch 10/100\n",
            "236/236 [==============================] - 1s 5ms/step - loss: 0.6929 - accuracy: 0.5169 - val_loss: 0.6900 - val_accuracy: 0.5515\n",
            "Epoch 11/100\n",
            "236/236 [==============================] - 1s 5ms/step - loss: 0.6928 - accuracy: 0.5169 - val_loss: 0.6915 - val_accuracy: 0.5515\n",
            "Epoch 12/100\n",
            "236/236 [==============================] - 1s 5ms/step - loss: 0.6929 - accuracy: 0.5169 - val_loss: 0.6908 - val_accuracy: 0.5515\n",
            "Epoch 13/100\n",
            "236/236 [==============================] - 1s 5ms/step - loss: 0.6928 - accuracy: 0.5169 - val_loss: 0.6898 - val_accuracy: 0.5515\n",
            "Epoch 14/100\n",
            "236/236 [==============================] - 1s 5ms/step - loss: 0.6928 - accuracy: 0.5169 - val_loss: 0.6907 - val_accuracy: 0.5515\n",
            "Epoch 15/100\n",
            "236/236 [==============================] - 1s 5ms/step - loss: 0.6928 - accuracy: 0.5169 - val_loss: 0.6896 - val_accuracy: 0.5515\n",
            "Epoch 16/100\n",
            "236/236 [==============================] - 1s 5ms/step - loss: 0.6928 - accuracy: 0.5169 - val_loss: 0.6893 - val_accuracy: 0.5515\n",
            "Epoch 17/100\n",
            "236/236 [==============================] - 1s 5ms/step - loss: 0.6929 - accuracy: 0.5169 - val_loss: 0.6893 - val_accuracy: 0.5515\n",
            "Epoch 18/100\n",
            "236/236 [==============================] - 1s 5ms/step - loss: 0.6930 - accuracy: 0.5169 - val_loss: 0.6900 - val_accuracy: 0.5515\n",
            "Epoch 19/100\n",
            "236/236 [==============================] - 1s 5ms/step - loss: 0.6929 - accuracy: 0.5169 - val_loss: 0.6899 - val_accuracy: 0.5515\n",
            "Epoch 20/100\n",
            "236/236 [==============================] - 1s 5ms/step - loss: 0.6929 - accuracy: 0.5169 - val_loss: 0.6913 - val_accuracy: 0.5515\n",
            "Epoch 21/100\n",
            "236/236 [==============================] - 1s 5ms/step - loss: 0.6930 - accuracy: 0.5169 - val_loss: 0.6903 - val_accuracy: 0.5515\n",
            "Epoch 22/100\n",
            "236/236 [==============================] - 1s 5ms/step - loss: 0.6928 - accuracy: 0.5169 - val_loss: 0.6914 - val_accuracy: 0.5515\n",
            "Epoch 23/100\n",
            "236/236 [==============================] - 1s 5ms/step - loss: 0.6930 - accuracy: 0.5169 - val_loss: 0.6904 - val_accuracy: 0.5515\n",
            "Epoch 24/100\n",
            "236/236 [==============================] - 1s 5ms/step - loss: 0.6930 - accuracy: 0.5132 - val_loss: 0.6898 - val_accuracy: 0.5515\n",
            "Epoch 25/100\n",
            "236/236 [==============================] - 1s 5ms/step - loss: 0.6928 - accuracy: 0.5169 - val_loss: 0.6889 - val_accuracy: 0.5515\n",
            "Epoch 26/100\n",
            "236/236 [==============================] - 1s 5ms/step - loss: 0.6929 - accuracy: 0.5169 - val_loss: 0.6911 - val_accuracy: 0.5515\n",
            "Epoch 27/100\n",
            "236/236 [==============================] - 1s 5ms/step - loss: 0.6930 - accuracy: 0.5169 - val_loss: 0.6904 - val_accuracy: 0.5515\n",
            "Epoch 28/100\n",
            "236/236 [==============================] - 1s 5ms/step - loss: 0.6929 - accuracy: 0.5123 - val_loss: 0.6931 - val_accuracy: 0.4485\n",
            "Epoch 29/100\n",
            "236/236 [==============================] - 1s 5ms/step - loss: 0.6928 - accuracy: 0.5135 - val_loss: 0.6902 - val_accuracy: 0.5515\n",
            "Epoch 30/100\n",
            "236/236 [==============================] - 1s 5ms/step - loss: 0.6929 - accuracy: 0.5169 - val_loss: 0.6896 - val_accuracy: 0.5515\n",
            "Epoch 31/100\n",
            "236/236 [==============================] - 1s 5ms/step - loss: 0.6929 - accuracy: 0.5169 - val_loss: 0.6905 - val_accuracy: 0.5515\n",
            "Epoch 32/100\n",
            "236/236 [==============================] - 1s 5ms/step - loss: 0.6928 - accuracy: 0.5151 - val_loss: 0.6903 - val_accuracy: 0.5515\n",
            "Epoch 33/100\n",
            "236/236 [==============================] - 1s 5ms/step - loss: 0.6927 - accuracy: 0.5151 - val_loss: 0.6899 - val_accuracy: 0.5515\n",
            "Epoch 34/100\n",
            "236/236 [==============================] - 1s 5ms/step - loss: 0.6929 - accuracy: 0.5169 - val_loss: 0.6896 - val_accuracy: 0.5515\n",
            "Epoch 35/100\n",
            "236/236 [==============================] - 1s 5ms/step - loss: 0.6926 - accuracy: 0.5169 - val_loss: 0.6928 - val_accuracy: 0.5515\n",
            "Epoch 36/100\n",
            "236/236 [==============================] - 1s 5ms/step - loss: 0.6929 - accuracy: 0.5169 - val_loss: 0.6920 - val_accuracy: 0.5515\n",
            "Epoch 37/100\n",
            "236/236 [==============================] - 1s 5ms/step - loss: 0.6931 - accuracy: 0.5169 - val_loss: 0.6903 - val_accuracy: 0.5515\n",
            "Epoch 38/100\n",
            "236/236 [==============================] - 1s 5ms/step - loss: 0.6929 - accuracy: 0.5090 - val_loss: 0.6893 - val_accuracy: 0.5515\n",
            "Epoch 39/100\n",
            "236/236 [==============================] - 1s 5ms/step - loss: 0.6929 - accuracy: 0.5169 - val_loss: 0.6920 - val_accuracy: 0.5515\n",
            "Epoch 40/100\n",
            "236/236 [==============================] - 1s 5ms/step - loss: 0.6929 - accuracy: 0.5169 - val_loss: 0.6894 - val_accuracy: 0.5515\n",
            "Epoch 41/100\n",
            "236/236 [==============================] - 1s 5ms/step - loss: 0.6929 - accuracy: 0.5135 - val_loss: 0.6925 - val_accuracy: 0.5515\n",
            "Epoch 42/100\n",
            "236/236 [==============================] - 1s 5ms/step - loss: 0.6929 - accuracy: 0.5169 - val_loss: 0.6922 - val_accuracy: 0.5515\n",
            "Epoch 43/100\n",
            "236/236 [==============================] - 1s 5ms/step - loss: 0.6929 - accuracy: 0.5132 - val_loss: 0.6904 - val_accuracy: 0.5515\n",
            "Epoch 44/100\n",
            "236/236 [==============================] - 1s 5ms/step - loss: 0.6928 - accuracy: 0.5137 - val_loss: 0.6922 - val_accuracy: 0.5515\n",
            "Epoch 45/100\n",
            "236/236 [==============================] - 2s 8ms/step - loss: 0.6929 - accuracy: 0.5132 - val_loss: 0.6897 - val_accuracy: 0.5515\n",
            "Epoch 46/100\n",
            "236/236 [==============================] - 2s 7ms/step - loss: 0.6928 - accuracy: 0.5097 - val_loss: 0.6886 - val_accuracy: 0.5515\n",
            "Epoch 47/100\n",
            "236/236 [==============================] - 1s 5ms/step - loss: 0.6928 - accuracy: 0.5169 - val_loss: 0.6921 - val_accuracy: 0.5515\n",
            "Epoch 48/100\n",
            "236/236 [==============================] - 1s 5ms/step - loss: 0.6929 - accuracy: 0.5169 - val_loss: 0.6909 - val_accuracy: 0.5515\n",
            "Epoch 49/100\n",
            "236/236 [==============================] - 1s 5ms/step - loss: 0.6929 - accuracy: 0.5103 - val_loss: 0.6887 - val_accuracy: 0.5515\n",
            "Epoch 50/100\n",
            "236/236 [==============================] - 1s 5ms/step - loss: 0.6930 - accuracy: 0.5169 - val_loss: 0.6903 - val_accuracy: 0.5515\n",
            "Epoch 51/100\n",
            "236/236 [==============================] - 1s 5ms/step - loss: 0.6928 - accuracy: 0.5169 - val_loss: 0.6908 - val_accuracy: 0.5515\n",
            "Epoch 52/100\n",
            "236/236 [==============================] - 1s 5ms/step - loss: 0.6928 - accuracy: 0.5143 - val_loss: 0.6901 - val_accuracy: 0.5515\n",
            "Epoch 53/100\n",
            "236/236 [==============================] - 1s 5ms/step - loss: 0.6924 - accuracy: 0.5184 - val_loss: 0.6972 - val_accuracy: 0.4485\n",
            "Epoch 54/100\n",
            "236/236 [==============================] - 1s 5ms/step - loss: 0.6933 - accuracy: 0.5090 - val_loss: 0.6917 - val_accuracy: 0.5515\n",
            "Epoch 55/100\n",
            "236/236 [==============================] - 1s 5ms/step - loss: 0.6928 - accuracy: 0.5169 - val_loss: 0.6898 - val_accuracy: 0.5515\n",
            "Epoch 56/100\n",
            "236/236 [==============================] - 1s 5ms/step - loss: 0.6929 - accuracy: 0.5153 - val_loss: 0.6908 - val_accuracy: 0.5515\n",
            "Epoch 57/100\n",
            "236/236 [==============================] - 1s 5ms/step - loss: 0.6930 - accuracy: 0.5169 - val_loss: 0.6913 - val_accuracy: 0.5515\n",
            "Epoch 58/100\n",
            "236/236 [==============================] - 2s 7ms/step - loss: 0.6929 - accuracy: 0.5169 - val_loss: 0.6910 - val_accuracy: 0.5515\n",
            "Epoch 59/100\n",
            "236/236 [==============================] - 2s 8ms/step - loss: 0.6928 - accuracy: 0.5169 - val_loss: 0.6918 - val_accuracy: 0.5515\n",
            "Epoch 60/100\n",
            "236/236 [==============================] - 2s 7ms/step - loss: 0.6928 - accuracy: 0.5169 - val_loss: 0.6890 - val_accuracy: 0.5515\n",
            "Epoch 61/100\n",
            "236/236 [==============================] - 1s 5ms/step - loss: 0.6929 - accuracy: 0.5169 - val_loss: 0.6911 - val_accuracy: 0.5515\n",
            "Epoch 62/100\n",
            "236/236 [==============================] - 1s 5ms/step - loss: 0.6929 - accuracy: 0.5169 - val_loss: 0.6892 - val_accuracy: 0.5515\n",
            "Epoch 63/100\n",
            "236/236 [==============================] - 1s 5ms/step - loss: 0.6929 - accuracy: 0.5169 - val_loss: 0.6899 - val_accuracy: 0.5515\n",
            "Epoch 64/100\n",
            "236/236 [==============================] - 1s 5ms/step - loss: 0.6927 - accuracy: 0.5169 - val_loss: 0.6900 - val_accuracy: 0.5515\n",
            "Epoch 65/100\n",
            "236/236 [==============================] - 1s 5ms/step - loss: 0.6928 - accuracy: 0.5169 - val_loss: 0.6891 - val_accuracy: 0.5515\n",
            "Epoch 66/100\n",
            "236/236 [==============================] - 1s 5ms/step - loss: 0.6927 - accuracy: 0.5132 - val_loss: 0.6911 - val_accuracy: 0.5515\n",
            "Epoch 67/100\n",
            "236/236 [==============================] - 1s 5ms/step - loss: 0.6928 - accuracy: 0.5169 - val_loss: 0.6909 - val_accuracy: 0.5515\n",
            "Epoch 68/100\n",
            "236/236 [==============================] - 1s 5ms/step - loss: 0.6928 - accuracy: 0.5129 - val_loss: 0.6905 - val_accuracy: 0.5515\n",
            "Epoch 69/100\n",
            "236/236 [==============================] - 1s 5ms/step - loss: 0.6928 - accuracy: 0.5169 - val_loss: 0.6922 - val_accuracy: 0.5515\n",
            "Epoch 70/100\n",
            "236/236 [==============================] - 1s 5ms/step - loss: 0.6929 - accuracy: 0.5169 - val_loss: 0.6901 - val_accuracy: 0.5515\n",
            "Epoch 71/100\n",
            "236/236 [==============================] - 1s 5ms/step - loss: 0.6928 - accuracy: 0.5169 - val_loss: 0.6909 - val_accuracy: 0.5515\n",
            "Epoch 72/100\n",
            "236/236 [==============================] - 1s 5ms/step - loss: 0.6929 - accuracy: 0.5169 - val_loss: 0.6914 - val_accuracy: 0.5515\n",
            "Epoch 73/100\n",
            "236/236 [==============================] - 1s 5ms/step - loss: 0.6929 - accuracy: 0.5169 - val_loss: 0.6911 - val_accuracy: 0.5515\n",
            "Epoch 74/100\n",
            "236/236 [==============================] - 1s 5ms/step - loss: 0.6930 - accuracy: 0.5169 - val_loss: 0.6903 - val_accuracy: 0.5515\n",
            "Epoch 75/100\n",
            "236/236 [==============================] - 1s 5ms/step - loss: 0.6927 - accuracy: 0.5169 - val_loss: 0.6930 - val_accuracy: 0.5515\n",
            "Epoch 76/100\n",
            "236/236 [==============================] - 1s 5ms/step - loss: 0.6929 - accuracy: 0.5143 - val_loss: 0.6903 - val_accuracy: 0.5515\n",
            "Epoch 77/100\n",
            "236/236 [==============================] - 1s 5ms/step - loss: 0.6928 - accuracy: 0.5143 - val_loss: 0.6897 - val_accuracy: 0.5515\n",
            "Epoch 78/100\n",
            "236/236 [==============================] - 1s 5ms/step - loss: 0.6928 - accuracy: 0.5158 - val_loss: 0.6899 - val_accuracy: 0.5515\n",
            "Epoch 79/100\n",
            "236/236 [==============================] - 1s 5ms/step - loss: 0.6930 - accuracy: 0.5121 - val_loss: 0.6921 - val_accuracy: 0.5515\n",
            "Epoch 80/100\n",
            "236/236 [==============================] - 1s 5ms/step - loss: 0.6928 - accuracy: 0.5137 - val_loss: 0.6903 - val_accuracy: 0.5515\n",
            "Epoch 81/100\n",
            "236/236 [==============================] - 1s 5ms/step - loss: 0.6928 - accuracy: 0.5169 - val_loss: 0.6901 - val_accuracy: 0.5515\n",
            "Epoch 82/100\n",
            "236/236 [==============================] - 1s 5ms/step - loss: 0.6929 - accuracy: 0.5169 - val_loss: 0.6899 - val_accuracy: 0.5515\n",
            "Epoch 83/100\n",
            "236/236 [==============================] - 1s 5ms/step - loss: 0.6928 - accuracy: 0.5169 - val_loss: 0.6915 - val_accuracy: 0.5515\n",
            "Epoch 84/100\n",
            "236/236 [==============================] - 1s 5ms/step - loss: 0.6932 - accuracy: 0.5169 - val_loss: 0.6911 - val_accuracy: 0.5515\n",
            "Epoch 85/100\n",
            "236/236 [==============================] - 1s 5ms/step - loss: 0.6928 - accuracy: 0.5169 - val_loss: 0.6897 - val_accuracy: 0.5515\n",
            "Epoch 86/100\n",
            "236/236 [==============================] - 1s 5ms/step - loss: 0.6927 - accuracy: 0.5169 - val_loss: 0.6924 - val_accuracy: 0.5515\n",
            "Epoch 87/100\n",
            "236/236 [==============================] - 1s 5ms/step - loss: 0.6928 - accuracy: 0.5111 - val_loss: 0.6889 - val_accuracy: 0.5515\n",
            "Epoch 88/100\n",
            "236/236 [==============================] - 1s 5ms/step - loss: 0.6928 - accuracy: 0.5169 - val_loss: 0.6917 - val_accuracy: 0.5515\n",
            "Epoch 89/100\n",
            "236/236 [==============================] - 1s 5ms/step - loss: 0.6929 - accuracy: 0.5169 - val_loss: 0.6906 - val_accuracy: 0.5515\n",
            "Epoch 90/100\n",
            "236/236 [==============================] - 1s 5ms/step - loss: 0.6928 - accuracy: 0.5169 - val_loss: 0.6907 - val_accuracy: 0.5515\n",
            "Epoch 91/100\n",
            "236/236 [==============================] - 1s 5ms/step - loss: 0.6927 - accuracy: 0.5169 - val_loss: 0.6898 - val_accuracy: 0.5515\n",
            "Epoch 92/100\n",
            "236/236 [==============================] - 1s 5ms/step - loss: 0.6927 - accuracy: 0.5140 - val_loss: 0.6888 - val_accuracy: 0.5515\n",
            "Epoch 93/100\n",
            "236/236 [==============================] - 1s 5ms/step - loss: 0.6928 - accuracy: 0.5169 - val_loss: 0.6921 - val_accuracy: 0.5515\n",
            "Epoch 94/100\n",
            "236/236 [==============================] - 1s 5ms/step - loss: 0.6929 - accuracy: 0.5169 - val_loss: 0.6897 - val_accuracy: 0.5515\n",
            "Epoch 95/100\n",
            "236/236 [==============================] - 1s 5ms/step - loss: 0.6928 - accuracy: 0.5169 - val_loss: 0.6893 - val_accuracy: 0.5515\n",
            "Epoch 96/100\n",
            "236/236 [==============================] - 1s 5ms/step - loss: 0.6928 - accuracy: 0.5169 - val_loss: 0.6917 - val_accuracy: 0.5515\n",
            "Epoch 97/100\n",
            "236/236 [==============================] - 1s 5ms/step - loss: 0.6928 - accuracy: 0.5169 - val_loss: 0.6903 - val_accuracy: 0.5515\n",
            "Epoch 98/100\n",
            "236/236 [==============================] - 1s 5ms/step - loss: 0.6929 - accuracy: 0.5169 - val_loss: 0.6913 - val_accuracy: 0.5515\n",
            "Epoch 99/100\n",
            "236/236 [==============================] - 1s 5ms/step - loss: 0.6930 - accuracy: 0.5132 - val_loss: 0.6892 - val_accuracy: 0.5515\n",
            "Epoch 100/100\n",
            "236/236 [==============================] - 1s 5ms/step - loss: 0.6931 - accuracy: 0.5169 - val_loss: 0.6888 - val_accuracy: 0.5515\n"
          ]
        }
      ]
    },
    {
      "cell_type": "code",
      "source": [
        "from sklearn.metrics import roc_curve\n",
        "y_pred_keras = model.predict(testX).ravel()\n",
        "fpr_keras, tpr_keras, thresholds_keras = roc_curve(testY, y_pred_keras)\n",
        "from sklearn.metrics import auc\n",
        "auc_keras = auc(fpr_keras, tpr_keras)\n",
        "#ROC_AUC score\n",
        "from sklearn.metrics import roc_auc_score\n",
        "print(roc_auc_score(testY, y_pred_keras))"
      ],
      "metadata": {
        "colab": {
          "base_uri": "https://localhost:8080/"
        },
        "id": "dUjDEx1nvhb7",
        "outputId": "7af54308-ce89-4ce3-ccaf-02afb89b7c47"
      },
      "execution_count": 29,
      "outputs": [
        {
          "output_type": "stream",
          "name": "stdout",
          "text": [
            "0.5101639344262295\n"
          ]
        }
      ]
    },
    {
      "cell_type": "code",
      "source": [
        "# accuracy score\n",
        "from sklearn.metrics import accuracy_score\n",
        "y_pred_keras = y_pred_keras.astype('int64')\n",
        "print(accuracy_score(testY, y_pred_keras))"
      ],
      "metadata": {
        "colab": {
          "base_uri": "https://localhost:8080/"
        },
        "id": "vkGOBtLJvhrK",
        "outputId": "5361a54a-8389-4e10-963e-230e70830e17"
      },
      "execution_count": 30,
      "outputs": [
        {
          "output_type": "stream",
          "name": "stdout",
          "text": [
            "0.4485294117647059\n"
          ]
        }
      ]
    },
    {
      "cell_type": "code",
      "source": [
        "!pip install -q -U keras-tuner\n",
        "import keras_tuner as kt"
      ],
      "metadata": {
        "colab": {
          "base_uri": "https://localhost:8080/"
        },
        "id": "9GcbK1j3vn6X",
        "outputId": "48a2f07c-644e-4a24-82ec-e9cfabab138f"
      },
      "execution_count": 31,
      "outputs": [
        {
          "output_type": "stream",
          "name": "stdout",
          "text": [
            "\u001b[K     |████████████████████████████████| 135 kB 34.1 MB/s \n",
            "\u001b[K     |████████████████████████████████| 1.6 MB 57.7 MB/s \n",
            "\u001b[?25h"
          ]
        }
      ]
    },
    {
      "cell_type": "code",
      "source": [
        "# hyperparameter tuning\n",
        "def model_builder(hp):\n",
        "  inputs = keras.layers.Input(shape=(look_back, features)) #(ts lenght, number of features)\n",
        "  hp_units = hp.Int('units', min_value=16, max_value=64, step=16)\n",
        "  lstm_out = keras.layers.LSTM(units=hp_units)(inputs)\n",
        "  outputs = keras.layers.Dense(1)(lstm_out)\n",
        "\n",
        "  model = keras.Model(inputs=inputs, outputs=outputs)\n",
        "\n",
        "  hp_learning_rate = hp.Choice('learning_rate', values=[1e-2, 1e-3])\n",
        "  model.compile(optimizer=keras.optimizers.Adam(learning_rate=hp_learning_rate), loss=\"mse\")\n",
        "  return model"
      ],
      "metadata": {
        "id": "_3gdGKZtvrTs"
      },
      "execution_count": 32,
      "outputs": []
    },
    {
      "cell_type": "code",
      "source": [
        "from tensorflow import keras\n",
        "tuner = kt.Hyperband(model_builder,\n",
        "                     objective='val_loss',\n",
        "                     max_epochs=2,\n",
        "                     factor=3,\n",
        "                     directory='my_dir',\n",
        "                     project_name='intro_to_kt')"
      ],
      "metadata": {
        "id": "LTLOJO1fvtzL"
      },
      "execution_count": 33,
      "outputs": []
    },
    {
      "cell_type": "code",
      "source": [
        "stop_early = tf.keras.callbacks.EarlyStopping(monitor='val_loss', patience=5)"
      ],
      "metadata": {
        "id": "x6V9JkCGvvlQ"
      },
      "execution_count": 34,
      "outputs": []
    },
    {
      "cell_type": "code",
      "source": [
        "tuner.search(trainX, trainY, epochs=2, validation_data=(testX,testY), callbacks=[stop_early])\n",
        "\n",
        "# Get the optimal hyperparameters\n",
        "best_hps=tuner.get_best_hyperparameters(num_trials=1)[0]\n",
        "\n",
        "print(f\"\"\"\n",
        "The hyperparameter search is complete. The optimal number of units in the first RNN layer\n",
        "layer is {best_hps.get('units')} and the optimal learning rate for the optimizer\n",
        "is {best_hps.get('learning_rate')}.\n",
        "\"\"\")"
      ],
      "metadata": {
        "colab": {
          "base_uri": "https://localhost:8080/"
        },
        "id": "Kcz94PgSvxd_",
        "outputId": "63d702bb-37bd-403c-ec48-43a41ea5157d"
      },
      "execution_count": 35,
      "outputs": [
        {
          "output_type": "stream",
          "name": "stdout",
          "text": [
            "Trial 2 Complete [00h 00m 09s]\n",
            "val_loss: 0.24919776618480682\n",
            "\n",
            "Best val_loss So Far: 0.24919776618480682\n",
            "Total elapsed time: 00h 00m 18s\n",
            "\n",
            "The hyperparameter search is complete. The optimal number of units in the first RNN layer\n",
            "layer is 16 and the optimal learning rate for the optimizer\n",
            "is 0.001.\n",
            "\n"
          ]
        }
      ]
    },
    {
      "cell_type": "code",
      "source": [
        "# Build the model with the optimal hyperparameters and train it on the data for 5 epochs\n",
        "model = tuner.hypermodel.build(best_hps)\n",
        "history = model.fit(trainX,trainY, epochs=5, validation_data=(testX,testY))\n",
        "\n",
        "val_mse_per_epoch = history.history['val_loss']"
      ],
      "metadata": {
        "id": "SlVRpCiUvy9K",
        "colab": {
          "base_uri": "https://localhost:8080/"
        },
        "outputId": "8a80abbd-1bc6-44e3-b36e-57331bf5dee2"
      },
      "execution_count": 36,
      "outputs": [
        {
          "output_type": "stream",
          "name": "stdout",
          "text": [
            "Epoch 1/5\n",
            "236/236 [==============================] - 3s 6ms/step - loss: 0.3067 - val_loss: 0.2481\n",
            "Epoch 2/5\n",
            "236/236 [==============================] - 1s 3ms/step - loss: 0.2516 - val_loss: 0.2567\n",
            "Epoch 3/5\n",
            "236/236 [==============================] - 1s 5ms/step - loss: 0.2503 - val_loss: 0.2478\n",
            "Epoch 4/5\n",
            "236/236 [==============================] - 1s 6ms/step - loss: 0.2502 - val_loss: 0.2550\n",
            "Epoch 5/5\n",
            "236/236 [==============================] - 1s 6ms/step - loss: 0.2499 - val_loss: 0.2517\n"
          ]
        }
      ]
    },
    {
      "cell_type": "code",
      "source": [
        "# accuracy results for the new model\n",
        "from sklearn.metrics import roc_curve\n",
        "y_pred_keras = model.predict(testX).ravel()\n",
        "fpr_keras, tpr_keras, thresholds_keras = roc_curve(testY, y_pred_keras)\n",
        "from sklearn.metrics import auc\n",
        "auc_keras = auc(fpr_keras, tpr_keras)\n",
        "\n",
        "plt.plot(fpr_keras, tpr_keras, label='Keras (area = {:.3f})'.format(auc_keras))\n",
        "plt.xlabel('False positive rate')\n",
        "plt.ylabel('True positive rate')\n",
        "plt.title('ROC curve')\n",
        "plt.legend(loc='best')\n",
        "plt.show()"
      ],
      "metadata": {
        "colab": {
          "base_uri": "https://localhost:8080/",
          "height": 313
        },
        "id": "O5jh0WD0hqou",
        "outputId": "67fbeb2b-010d-4e32-82b5-25702dbde270"
      },
      "execution_count": 37,
      "outputs": [
        {
          "output_type": "stream",
          "name": "stdout",
          "text": [
            "5/5 [==============================] - 1s 6ms/step\n"
          ]
        },
        {
          "output_type": "display_data",
          "data": {
            "text/plain": [
              "<Figure size 432x288 with 1 Axes>"
            ],
            "image/png": "[encoded data removed]"
          },
          "metadata": {
            "needs_background": "light"
          }
        }
      ]
    },
    {
      "cell_type": "code",
      "source": [
        "print(roc_auc_score(testY, y_pred_keras))"
      ],
      "metadata": {
        "colab": {
          "base_uri": "https://localhost:8080/"
        },
        "id": "aKXOkOQmlTQl",
        "outputId": "a95d7b04-efdd-4a3f-bd67-93db5ce54fd6"
      },
      "execution_count": 38,
      "outputs": [
        {
          "output_type": "stream",
          "name": "stdout",
          "text": [
            "0.5565027322404372\n"
          ]
        }
      ]
    }
  ]
}